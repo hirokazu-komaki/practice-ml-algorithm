{
 "cells": [
  {
   "cell_type": "code",
   "execution_count": 1,
   "metadata": {
    "collapsed": true,
    "jupyter": {
     "outputs_hidden": true
    }
   },
   "outputs": [
    {
     "name": "stdout",
     "output_type": "stream",
     "text": [
      "Package                            Version\n",
      "---------------------------------- ---------\n",
      "absl-py                            1.2.0\n",
      "alabaster                          0.7.12\n",
      "anaconda-client                    1.7.2\n",
      "anaconda-navigator                 1.9.7\n",
      "anaconda-project                   0.8.3\n",
      "asn1crypto                         1.0.1\n",
      "astor                              0.8.1\n",
      "astroid                            2.3.1\n",
      "astropy                            3.2.2\n",
      "astunparse                         1.6.3\n",
      "atomicwrites                       1.3.0\n",
      "attrs                              19.2.0\n",
      "Babel                              2.7.0\n",
      "backcall                           0.1.0\n",
      "backports.functools-lru-cache      1.5\n",
      "backports.os                       0.1.1\n",
      "backports.shutil-get-terminal-size 1.0.0\n",
      "backports.tempfile                 1.0\n",
      "backports.weakref                  1.0.post1\n",
      "beautifulsoup4                     4.8.0\n",
      "bitarray                           1.0.1\n",
      "bkcharts                           0.2\n",
      "bleach                             3.1.0\n",
      "bokeh                              1.3.4\n",
      "boto                               2.49.0\n",
      "Bottleneck                         1.2.1\n",
      "cachetools                         5.2.0\n",
      "certifi                            2019.9.11\n",
      "cffi                               1.12.3\n",
      "chardet                            3.0.4\n",
      "Click                              7.0\n",
      "cloudpickle                        1.2.2\n",
      "clyent                             1.2.2\n",
      "colorama                           0.4.1\n",
      "conda                              4.7.12\n",
      "conda-build                        3.18.9\n",
      "conda-package-handling             1.6.0\n",
      "conda-verify                       3.4.2\n",
      "contextlib2                        0.6.0\n",
      "coverage                           6.4.4\n",
      "cryptography                       2.7\n",
      "cycler                             0.10.0\n",
      "Cython                             0.29.13\n",
      "cytoolz                            0.10.0\n",
      "dask                               2.5.2\n",
      "decorator                          4.4.0\n",
      "defusedxml                         0.6.0\n",
      "distributed                        2.5.2\n",
      "docutils                           0.15.2\n",
      "dominate                           2.7.0\n",
      "entrypoints                        0.3\n",
      "et-xmlfile                         1.0.1\n",
      "fastcache                          1.1.0\n",
      "filelock                           3.0.12\n",
      "Flask                              1.1.4\n",
      "Flask-Bootstrap                    3.3.7.1\n",
      "Flask-Login                        0.6.2\n",
      "Flask-SQLAlchemy                   2.5.1\n",
      "flatbuffers                        2.0.7\n",
      "fsspec                             0.5.2\n",
      "future                             0.17.1\n",
      "gast                               0.2.2\n",
      "gevent                             1.4.0\n",
      "glob2                              0.7\n",
      "gmpy2                              2.0.8\n",
      "google-auth                        2.11.0\n",
      "google-auth-oauthlib               0.4.6\n",
      "google-pasta                       0.2.0\n",
      "greenlet                           0.4.15\n",
      "grpcio                             1.48.1\n",
      "h5py                               2.9.0\n",
      "HeapDict                           1.0.1\n",
      "html5lib                           1.0.1\n",
      "idna                               2.8\n",
      "imageio                            2.6.0\n",
      "imagesize                          1.1.0\n",
      "importlib-metadata                 4.12.0\n",
      "ipykernel                          5.1.2\n",
      "ipython                            7.8.0\n",
      "ipython_genutils                   0.2.0\n",
      "ipywidgets                         7.5.1\n",
      "isort                              4.3.21\n",
      "itsdangerous                       1.1.0\n",
      "jdcal                              1.4.1\n",
      "jedi                               0.15.1\n",
      "jeepney                            0.4.1\n",
      "Jinja2                             2.10.3\n",
      "joblib                             0.13.2\n",
      "json5                              0.8.5\n",
      "jsonschema                         3.0.2\n",
      "jupyter                            1.0.0\n",
      "jupyter-client                     5.3.3\n",
      "jupyter-console                    6.0.0\n",
      "jupyter-core                       4.5.0\n",
      "jupyterlab                         1.1.4\n",
      "jupyterlab-server                  1.0.6\n",
      "keras                              2.10.0\n",
      "Keras-Applications                 1.0.8\n",
      "Keras-Preprocessing                1.1.2\n",
      "keyring                            18.0.0\n",
      "kiwisolver                         1.1.0\n",
      "lazy-object-proxy                  1.4.2\n",
      "libarchive-c                       2.8\n",
      "libclang                           14.0.6\n",
      "lief                               0.9.0\n",
      "lime                               0.2.0.1\n",
      "llvmlite                           0.29.0\n",
      "locket                             0.2.0\n",
      "lxml                               4.4.1\n",
      "Markdown                           3.4.1\n",
      "MarkupSafe                         2.0.1\n",
      "matplotlib                         3.1.1\n",
      "mccabe                             0.6.1\n",
      "mistune                            0.8.4\n",
      "mkl-fft                            1.0.14\n",
      "mkl-random                         1.1.0\n",
      "mkl-service                        2.3.0\n",
      "mock                               3.0.5\n",
      "more-itertools                     7.2.0\n",
      "mpmath                             1.1.0\n",
      "msgpack                            0.6.1\n",
      "multipledispatch                   0.6.0\n",
      "navigator-updater                  0.2.1\n",
      "nbconvert                          5.6.0\n",
      "nbformat                           4.4.0\n",
      "networkx                           2.3\n",
      "nltk                               3.4.5\n",
      "nose                               1.3.7\n",
      "notebook                           6.0.1\n",
      "numba                              0.45.1\n",
      "numexpr                            2.7.0\n",
      "numpy                              1.18.5\n",
      "numpydoc                           0.9.1\n",
      "oauthlib                           3.2.1\n",
      "olefile                            0.46\n",
      "openpyxl                           3.0.0\n",
      "opt-einsum                         3.3.0\n",
      "packaging                          19.2\n",
      "pandas                             0.25.1\n",
      "pandocfilters                      1.4.2\n",
      "parso                              0.5.1\n",
      "partd                              1.0.0\n",
      "path.py                            12.0.1\n",
      "pathlib2                           2.3.5\n",
      "patsy                              0.5.1\n",
      "pep8                               1.7.1\n",
      "pexpect                            4.7.0\n",
      "pickleshare                        0.7.5\n",
      "Pillow                             6.2.0\n",
      "pip                                22.2.2\n",
      "pkginfo                            1.5.0.1\n",
      "pluggy                             0.13.0\n",
      "ply                                3.11\n",
      "prometheus-client                  0.7.1\n",
      "prompt-toolkit                     2.0.10\n",
      "protobuf                           3.19.4\n",
      "psutil                             5.6.3\n",
      "ptyprocess                         0.6.0\n",
      "py                                 1.8.0\n",
      "pyasn1                             0.4.8\n",
      "pyasn1-modules                     0.2.8\n",
      "pycodestyle                        2.5.0\n",
      "pycosat                            0.6.3\n",
      "pycparser                          2.19\n",
      "pycrypto                           2.6.1\n",
      "pycurl                             7.43.0.3\n",
      "pyflakes                           2.1.1\n",
      "Pygments                           2.4.2\n",
      "pylint                             2.4.2\n",
      "pyodbc                             4.0.27\n",
      "pyOpenSSL                          19.0.0\n",
      "pyparsing                          2.4.2\n",
      "pyrsistent                         0.15.4\n",
      "PySocks                            1.7.1\n",
      "pytest                             5.2.1\n",
      "pytest-arraydiff                   0.3\n",
      "pytest-astropy                     0.5.0\n",
      "pytest-cov                         3.0.0\n",
      "pytest-doctestplus                 0.4.0\n",
      "pytest-openfiles                   0.4.0\n",
      "pytest-remotedata                  0.3.2\n",
      "python-dateutil                    2.8.0\n",
      "pytz                               2019.3\n",
      "PyWavelets                         1.0.3\n",
      "PyYAML                             5.1.2\n",
      "pyzmq                              18.1.0\n",
      "QtAwesome                          0.6.0\n",
      "qtconsole                          4.5.5\n",
      "QtPy                               1.9.0\n",
      "requests                           2.22.0\n",
      "requests-oauthlib                  1.3.1\n",
      "rope                               0.14.0\n",
      "rsa                                4.9\n",
      "ruamel_yaml                        0.15.46\n",
      "scikit-image                       0.15.0\n",
      "scikit-learn                       1.0.2\n",
      "scipy                              1.3.1\n",
      "seaborn                            0.9.0\n",
      "SecretStorage                      3.1.1\n",
      "Send2Trash                         1.5.0\n",
      "setuptools                         41.4.0\n",
      "simplegeneric                      0.8.1\n",
      "singledispatch                     3.4.0.3\n",
      "six                                1.12.0\n",
      "snowballstemmer                    2.0.0\n",
      "sortedcollections                  1.1.2\n",
      "sortedcontainers                   2.1.0\n",
      "soupsieve                          1.9.3\n",
      "Sphinx                             2.2.0\n",
      "sphinxcontrib-applehelp            1.0.1\n",
      "sphinxcontrib-devhelp              1.0.1\n",
      "sphinxcontrib-htmlhelp             1.0.2\n",
      "sphinxcontrib-jsmath               1.0.1\n",
      "sphinxcontrib-qthelp               1.0.2\n",
      "sphinxcontrib-serializinghtml      1.1.3\n",
      "sphinxcontrib-websupport           1.1.2\n",
      "spyder                             3.3.6\n",
      "spyder-kernels                     0.5.2\n",
      "SQLAlchemy                         1.3.9\n",
      "statsmodels                        0.10.1\n",
      "sympy                              1.4\n",
      "tables                             3.5.2\n",
      "tblib                              1.4.0\n",
      "tensorboard                        1.15.0\n",
      "tensorboard-data-server            0.6.1\n",
      "tensorboard-plugin-wit             1.8.1\n",
      "tensorflow                         1.15.5\n",
      "tensorflow-estimator               1.15.1\n",
      "tensorflow-io-gcs-filesystem       0.27.0\n",
      "termcolor                          2.0.1\n",
      "terminado                          0.8.2\n",
      "testpath                           0.4.2\n",
      "threadpoolctl                      3.1.0\n",
      "tomli                              2.0.1\n",
      "toolz                              0.10.0\n",
      "tornado                            6.0.3\n",
      "tqdm                               4.36.1\n",
      "traitlets                          4.3.3\n",
      "typing_extensions                  4.3.0\n",
      "unicodecsv                         0.14.1\n",
      "urllib3                            1.24.2\n",
      "visitor                            0.1.3\n",
      "wcwidth                            0.1.7\n",
      "webencodings                       0.5.1\n",
      "Werkzeug                           1.0.1\n",
      "wheel                              0.33.6\n",
      "widgetsnbextension                 3.5.1\n",
      "wrapt                              1.11.2\n",
      "WTForms                            3.0.1\n",
      "wurlitzer                          1.0.3\n",
      "xlrd                               1.2.0\n",
      "XlsxWriter                         1.2.1\n",
      "xlwt                               1.3.0\n",
      "zict                               1.0.0\n",
      "zipp                               0.6.0\n"
     ]
    }
   ],
   "source": [
    "!pip list"
   ]
  },
  {
   "cell_type": "markdown",
   "metadata": {},
   "source": [
    "### TFの低レベルAPIの実装"
   ]
  },
  {
   "cell_type": "code",
   "execution_count": 3,
   "metadata": {},
   "outputs": [
    {
     "name": "stdout",
     "output_type": "stream",
     "text": [
      "x= 1.0 --> z= 2.7\n",
      "x= 0.6 --> z= 1.9\n",
      "x=-1.8 --> z=-2.9\n"
     ]
    }
   ],
   "source": [
    "import tensorflow as tf\n",
    "\n",
    "# 計算グラフの定義\n",
    "g = tf.Graph()\n",
    "with g.as_default():\n",
    "    x = tf.placeholder(dtype=tf.float32, shape=(None), name='x')\n",
    "    w = tf.Variable(2.0, name='weight')\n",
    "    b = tf.Variable(0.7, name='bias')\n",
    "    z = w * x + b\n",
    "    init = tf.global_variables_initializer()\n",
    "    \n",
    "\n",
    "# sessionの実行\n",
    "with tf.Session(graph=g) as sess:\n",
    "    # wとbを初期化\n",
    "    sess.run(init)\n",
    "    \n",
    "    # zを評価 xの値をリストで渡している\n",
    "    for t in [1.0, 0.6, -1.8]:\n",
    "        print(\"x={:4.1f} --> z={:4.1f}\".format(t, sess.run(z, feed_dict={x:t})))"
   ]
  },
  {
   "cell_type": "markdown",
   "metadata": {},
   "source": [
    "### TFで配列構造を扱う"
   ]
  },
  {
   "cell_type": "code",
   "execution_count": 4,
   "metadata": {},
   "outputs": [],
   "source": [
    "import numpy as np"
   ]
  },
  {
   "cell_type": "code",
   "execution_count": 6,
   "metadata": {},
   "outputs": [
    {
     "name": "stdout",
     "output_type": "stream",
     "text": [
      "input shape: (3, 2, 3)\n",
      "Reshaped:\n",
      " [[ 0.  1.  2.  3.  4.  5.]\n",
      " [ 6.  7.  8.  9. 10. 11.]\n",
      " [12. 13. 14. 15. 16. 17.]]\n",
      "xsum:\n",
      " [18. 21. 24. 27. 30. 33.]\n",
      "xmean:\n",
      " [ 6.  7.  8.  9. 10. 11.]\n"
     ]
    }
   ],
   "source": [
    "g = tf.Graph()\n",
    "\n",
    "with g.as_default():\n",
    "    x = tf.placeholder(dtype=tf.float32, shape=(None, 2, 3), name='input_x')\n",
    "    x2 = tf.reshape(x, shape=(-1, 6), name='x2')\n",
    "    \n",
    "    ## 各列の合計を求める\n",
    "    xsum = tf.reduce_sum(x2, axis=0, name='col_sum')\n",
    "    \n",
    "    ## 各列の平均を求める\n",
    "    xmean = tf.reduce_mean(x2, axis=0, name='col_mean')\n",
    "    \n",
    "\n",
    "with tf.Session(graph=g) as sess:\n",
    "    x_array = np.arange(18).reshape(3, 2, 3)\n",
    "    print(\"input shape: {}\".format(x_array.shape))\n",
    "    print(\"Reshaped:\\n\", sess.run(x2, feed_dict={x:x_array}))\n",
    "    print(\"xsum:\\n\", sess.run(xsum, feed_dict={x:x_array}))\n",
    "    print(\"xmean:\\n\", sess.run(xmean, feed_dict={x:x_array}))"
   ]
  },
  {
   "cell_type": "markdown",
   "metadata": {},
   "source": [
    "### 最小二乗線形回帰を実装してみる"
   ]
  },
  {
   "cell_type": "code",
   "execution_count": 7,
   "metadata": {},
   "outputs": [],
   "source": [
    "X_train = np.arange(10).reshape((10, 1))\n",
    "y_train = np.array([1.0, 1.3, 3.1, 2.0, 5.0, 6.3, 6.6, 7.4, 8.0, 9.0])"
   ]
  },
  {
   "cell_type": "code",
   "execution_count": 8,
   "metadata": {},
   "outputs": [
    {
     "data": {
      "text/plain": [
       "array([[0],\n",
       "       [1],\n",
       "       [2],\n",
       "       [3],\n",
       "       [4],\n",
       "       [5],\n",
       "       [6],\n",
       "       [7],\n",
       "       [8],\n",
       "       [9]])"
      ]
     },
     "execution_count": 8,
     "metadata": {},
     "output_type": "execute_result"
    }
   ],
   "source": [
    "X_train"
   ]
  },
  {
   "cell_type": "code",
   "execution_count": 9,
   "metadata": {},
   "outputs": [
    {
     "data": {
      "text/plain": [
       "array([1. , 1.3, 3.1, 2. , 5. , 6.3, 6.6, 7.4, 8. , 9. ])"
      ]
     },
     "execution_count": 9,
     "metadata": {},
     "output_type": "execute_result"
    }
   ],
   "source": [
    "y_train"
   ]
  },
  {
   "cell_type": "code",
   "execution_count": 10,
   "metadata": {},
   "outputs": [
    {
     "data": {
      "text/plain": [
       "10"
      ]
     },
     "execution_count": 10,
     "metadata": {},
     "output_type": "execute_result"
    }
   ],
   "source": [
    "len(y_train)"
   ]
  },
  {
   "cell_type": "markdown",
   "metadata": {},
   "source": [
    "入力ｘから出力yを予測するモデルをTfLinregとする"
   ]
  },
  {
   "cell_type": "code",
   "execution_count": 13,
   "metadata": {},
   "outputs": [],
   "source": [
    "class TfLinreg:\n",
    "    def __init__(self, x_dim, learning_rate=0.01, random_seed=None):\n",
    "        self.x_dim = x_dim\n",
    "        self.learning_rate = learning_rate\n",
    "        self.g = tf.Graph()\n",
    "        \n",
    "        ## モデルの構築\n",
    "        with self.g.as_default():\n",
    "            ## グラフレベルの乱数シードを指定\n",
    "            tf.set_random_seed(random_seed)\n",
    "            \n",
    "            # 計算グラフを構築するメソッドを呼ぶ\n",
    "            self.build()\n",
    "            ## 変数のinitを作成\n",
    "            self.init_op = tf.global_variables_initializer()\n",
    "            \n",
    "    # 計算グラフの構築\n",
    "    def build(self):\n",
    "        # 入力のプレースホルダ\n",
    "        self.X = tf.placeholder(dtype=tf.float32, shape=(None, self.x_dim), name='x_input')\n",
    "        \n",
    "        #出力のプレースホルダ\n",
    "        self.y = tf.placeholder(dtype=tf.float32, shape=(None), name='y_input')\n",
    "        \n",
    "        print(self.X)\n",
    "        print(self.y)\n",
    "        \n",
    "        # wとbを定義\n",
    "        w = tf.Variable(tf.zeros(shape=(1)), name='weight')\n",
    "        b = tf.Variable(tf.zeros(shape=(1)), name='bias')\n",
    "        print(w)\n",
    "        print(b)\n",
    "        \n",
    "        # 予測値を計算\n",
    "        self.z_net = tf.squeeze(w * self.X + b, name='z_net')\n",
    "        print(self.z_net)\n",
    "        \n",
    "        # 誤差の計算\n",
    "        sqr_errors = tf.square(self.y - self.z_net, name='sqr_errors')\n",
    "        print(sqr_errors)\n",
    "        self.mean_cost = tf.reduce_mean(sqr_errors, name='mean_cost')\n",
    "        \n",
    "        # optimizerを作成\n",
    "        optimizer = tf.train.GradientDescentOptimizer(learning_rate=self.learning_rate, name='GradientD')\n",
    "        self.optimizer = optimizer.minimize(self.mean_cost)\n",
    "        "
   ]
  },
  {
   "cell_type": "code",
   "execution_count": 14,
   "metadata": {},
   "outputs": [
    {
     "name": "stdout",
     "output_type": "stream",
     "text": [
      "Tensor(\"x_input:0\", shape=(?, 1), dtype=float32)\n",
      "Tensor(\"y_input:0\", dtype=float32)\n",
      "<tf.Variable 'weight:0' shape=(1,) dtype=float32_ref>\n",
      "<tf.Variable 'bias:0' shape=(1,) dtype=float32_ref>\n",
      "Tensor(\"z_net:0\", dtype=float32)\n",
      "Tensor(\"sqr_errors:0\", dtype=float32)\n"
     ]
    }
   ],
   "source": [
    "lrmodel = TfLinreg(x_dim=X_train.shape[1], learning_rate=0.01)"
   ]
  },
  {
   "cell_type": "markdown",
   "metadata": {},
   "source": [
    "訓練は別の関数を定義する\n"
   ]
  },
  {
   "cell_type": "code",
   "execution_count": 15,
   "metadata": {},
   "outputs": [],
   "source": [
    "def train_linreg(sess, model, X_train, y_train, num_epochs=10):\n",
    "    # 変数の初期化\n",
    "    sess.run(model.init_op)\n",
    "    \n",
    "    training_costs = []\n",
    "    for i in range(num_epochs):\n",
    "        _, cost = sess.run([model.optimizer, model.mean_cost], feed_dict={model.X:X_train, model.y:y_train})\n",
    "        \n",
    "        training_costs.append(cost)\n",
    "        \n",
    "    return training_costs"
   ]
  },
  {
   "cell_type": "markdown",
   "metadata": {},
   "source": [
    "新しいセッションを作り、グラフを起動、モデルをトレーニングさせる"
   ]
  },
  {
   "cell_type": "code",
   "execution_count": 17,
   "metadata": {},
   "outputs": [],
   "source": [
    "sess = tf.Session(graph=lrmodel.g)\n",
    "train_costs = train_linreg(sess, lrmodel, X_train, y_train)"
   ]
  },
  {
   "cell_type": "code",
   "execution_count": 18,
   "metadata": {},
   "outputs": [],
   "source": [
    "import matplotlib.pyplot as plt\n",
    "%matplotlib inline"
   ]
  },
  {
   "cell_type": "code",
   "execution_count": 19,
   "metadata": {},
   "outputs": [
    {
     "data": {
      "text/plain": [
       "[<matplotlib.lines.Line2D at 0x7f13c7276f50>]"
      ]
     },
     "execution_count": 19,
     "metadata": {},
     "output_type": "execute_result"
    },
    {
     "data": {
      "image/png": "[encoded data removed]",
      "text/plain": [
       "<Figure size 432x288 with 1 Axes>"
      ]
     },
     "metadata": {
      "needs_background": "light"
     },
     "output_type": "display_data"
    }
   ],
   "source": [
    "plt.plot(range(1, len(train_costs) + 1), train_costs)"
   ]
  },
  {
   "cell_type": "markdown",
   "metadata": {},
   "source": [
    "予測を行う関数を定義する"
   ]
  },
  {
   "cell_type": "code",
   "execution_count": 20,
   "metadata": {},
   "outputs": [],
   "source": [
    "def predict_linreg(sess, model, X_test):\n",
    "    y_pred = sess.run(model.z_net, feed_dict={model.X:X_test})\n",
    "    return y_pred"
   ]
  },
  {
   "cell_type": "markdown",
   "metadata": {},
   "source": [
    "### 高レベルAPI"
   ]
  },
  {
   "cell_type": "markdown",
   "metadata": {},
   "source": [
    "## Layers APIを使って多層NNを構築する"
   ]
  },
  {
   "cell_type": "markdown",
   "metadata": {},
   "source": [
    "mnistデータセットを読み込む"
   ]
  },
  {
   "cell_type": "code",
   "execution_count": 2,
   "metadata": {},
   "outputs": [],
   "source": [
    "import os\n",
    "import struct\n",
    "import numpy as np\n",
    "\n",
    "def load_mnist(path, kind='train'):\n",
    "    # MNISTをpathからダウンロード\n",
    "    labels_path = os.path.join(path, \"{}-labels-idx1-ubyte\".format(kind))\n",
    "    images_path = os.path.join(path, \"{}-images-idx3-ubyte\".format(kind))\n",
    "    \n",
    "    # ファイルの読み込み\n",
    "    with open(labels_path, mode='rb') as lbpath:\n",
    "        magic, n = struct.unpack('>II', lbpath.read(8))\n",
    "        labels = np.fromfile(lbpath, dtype=np.uint8)\n",
    "        \n",
    "    with open(images_path, 'rb') as imgpath:\n",
    "        magic, num, rows, cols = struct.unpack(\">IIII\", imgpath.read(16))\n",
    "        images = np.fromfile(imgpath, dtype=np.uint8).reshape(len(labels), 784)\n",
    "        images = ((images / 255.) - .5) * 2\n",
    "    \n",
    "    return images, labels"
   ]
  },
  {
   "cell_type": "code",
   "execution_count": 3,
   "metadata": {},
   "outputs": [
    {
     "name": "stdout",
     "output_type": "stream",
     "text": [
      "Rows: 60000, Columns: 784\n",
      "Rows: 10000, Columns: 784\n"
     ]
    }
   ],
   "source": [
    "X_train, y_train = load_mnist('../Section12/MNIST', kind='train')\n",
    "print(\"Rows: {}, Columns: {}\".format(X_train.shape[0], X_train.shape[1]))\n",
    "\n",
    "X_test, y_test = load_mnist(\"../Section12/MNIST\", kind='t10k')\n",
    "print(\"Rows: {}, Columns: {}\".format(X_test.shape[0], X_test.shape[1]))"
   ]
  },
  {
   "cell_type": "markdown",
   "metadata": {},
   "source": [
    "データの標準化と正規化"
   ]
  },
  {
   "cell_type": "code",
   "execution_count": 4,
   "metadata": {},
   "outputs": [
    {
     "name": "stdout",
     "output_type": "stream",
     "text": [
      "(60000, 784) (60000,)\n",
      "(10000, 784) (10000,)\n"
     ]
    }
   ],
   "source": [
    "mean_vals = np.mean(X_train, axis=0)\n",
    "std_val = np.std(X_train)\n",
    "\n",
    "X_train_cent = (X_train - mean_vals) / std_val\n",
    "X_test_cent = (X_test - mean_vals) / std_val\n",
    "\n",
    "print(X_train_cent.shape, y_train.shape)\n",
    "print(X_test_cent.shape, y_test.shape)"
   ]
  },
  {
   "cell_type": "markdown",
   "metadata": {},
   "source": [
    "tf_xとtf_yを定義し  \n",
    "全結合層を3つ定義する"
   ]
  },
  {
   "cell_type": "code",
   "execution_count": 5,
   "metadata": {},
   "outputs": [
    {
     "name": "stdout",
     "output_type": "stream",
     "text": [
      "WARNING:tensorflow:From <ipython-input-5-2dfbb041e43e>:25: dense (from tensorflow.python.layers.core) is deprecated and will be removed in a future version.\n",
      "Instructions for updating:\n",
      "Use keras.layers.Dense instead.\n",
      "WARNING:tensorflow:From /opt/anaconda3/lib/python3.7/site-packages/tensorflow_core/python/layers/core.py:187: Layer.apply (from tensorflow.python.keras.engine.base_layer) is deprecated and will be removed in a future version.\n",
      "Instructions for updating:\n",
      "Please use `layer.__call__` method instead.\n"
     ]
    }
   ],
   "source": [
    "import tensorflow as tf\n",
    "\n",
    "n_features = X_train_cent.shape[1]\n",
    "n_classes = 10\n",
    "random_seed = 123\n",
    "np.random.seed(random_seed)\n",
    "\n",
    "g = tf.Graph()\n",
    "with g.as_default():\n",
    "    tf.set_random_seed(random_seed)\n",
    "    tf_x = tf.placeholder(dtype=tf.float32,\n",
    "                          shape=(None, n_features),\n",
    "                          name='tf_x')\n",
    "    tf_y = tf.placeholder(dtype=tf.int32,\n",
    "                          shape=None,\n",
    "                          name='tf_y')\n",
    "    \n",
    "    # ラベルエンコーディング\n",
    "    y_onehot = tf.one_hot(indices=tf_y, depth=n_classes)\n",
    "    \n",
    "    # 隠れ層の定義\n",
    "    h1 = tf.layers.dense(inputs=tf_x,\n",
    "                         units=50,\n",
    "                         activation=tf.tanh,\n",
    "                         name='layer1')\n",
    "    \n",
    "    h2 = tf.layers.dense(inputs=h1,\n",
    "                         units=50,\n",
    "                         activation=tf.tanh,\n",
    "                         name='layer2')\n",
    "    \n",
    "    logits = tf.layers.dense(inputs=h2,\n",
    "                             units=10,\n",
    "                             activation=None,\n",
    "                             name='layer3')\n",
    "    \n",
    "    predictions = {\n",
    "        'classes': tf.argmax(logits, axis=1, name='predicted_classes'),\n",
    "        'probabilities': tf.nn.softmax(logits, name='softmax_tensor')\n",
    "    }"
   ]
  },
  {
   "cell_type": "markdown",
   "metadata": {},
   "source": [
    "コスト関数とオプティマイザの定義"
   ]
  },
  {
   "cell_type": "code",
   "execution_count": 6,
   "metadata": {},
   "outputs": [
    {
     "name": "stdout",
     "output_type": "stream",
     "text": [
      "WARNING:tensorflow:From /opt/anaconda3/lib/python3.7/site-packages/tensorflow_core/python/ops/losses/losses_impl.py:121: where (from tensorflow.python.ops.array_ops) is deprecated and will be removed in a future version.\n",
      "Instructions for updating:\n",
      "Use tf.where in 2.0, which has the same broadcast rule as np.where\n"
     ]
    }
   ],
   "source": [
    "with g.as_default():\n",
    "    cost = tf.losses.softmax_cross_entropy(onehot_labels=y_onehot,\n",
    "                                           logits=logits)\n",
    "    \n",
    "    optimizer = tf.train.GradientDescentOptimizer(learning_rate=0.001)\n",
    "    train_op = optimizer.minimize(loss=cost)\n",
    "    init_op = tf.global_variables_initializer()"
   ]
  },
  {
   "cell_type": "markdown",
   "metadata": {},
   "source": [
    "データのバッチを作るための関数を定義"
   ]
  },
  {
   "cell_type": "code",
   "execution_count": 7,
   "metadata": {},
   "outputs": [],
   "source": [
    "def create_batch_generator(X, y, batch_size=128, shuffle=False):\n",
    "    X_copy = np.array(X)\n",
    "    y_copy = np.array(y)\n",
    "    \n",
    "    if shuffle:\n",
    "        data = np.column_stack((X_copy, y_copy))\n",
    "        np.random.shuffle(data)\n",
    "        X_copy = data[:, :-1]\n",
    "        y_copy = data[:, -1].astype(int)\n",
    "        \n",
    "    for i in range(0, X.shape[0], batch_size):\n",
    "        yield (X_copy[i:i+batch_size, :], y_copy[i:i+batch_size])"
   ]
  },
  {
   "cell_type": "markdown",
   "metadata": {},
   "source": [
    "セッションを作成して、モデルを訓練"
   ]
  },
  {
   "cell_type": "code",
   "execution_count": 9,
   "metadata": {},
   "outputs": [
    {
     "name": "stdout",
     "output_type": "stream",
     "text": [
      "-- Epoch  1\n",
      "Avg. Training Loss: 1.5573\n",
      "-- Epoch  2\n",
      "Avg. Training Loss: 1.2532\n",
      "-- Epoch  3\n",
      "Avg. Training Loss: 1.0854\n",
      "-- Epoch  4\n",
      "Avg. Training Loss: 0.9738\n",
      "-- Epoch  5\n",
      "Avg. Training Loss: 0.8924\n",
      "-- Epoch  6\n",
      "Avg. Training Loss: 0.8296\n",
      "-- Epoch  7\n",
      "Avg. Training Loss: 0.7794\n",
      "-- Epoch  8\n",
      "Avg. Training Loss: 0.7381\n",
      "-- Epoch  9\n",
      "Avg. Training Loss: 0.7032\n",
      "-- Epoch 10\n",
      "Avg. Training Loss: 0.6734\n",
      "-- Epoch 11\n",
      "Avg. Training Loss: 0.6475\n",
      "-- Epoch 12\n",
      "Avg. Training Loss: 0.6247\n",
      "-- Epoch 13\n",
      "Avg. Training Loss: 0.6045\n",
      "-- Epoch 14\n",
      "Avg. Training Loss: 0.5864\n",
      "-- Epoch 15\n",
      "Avg. Training Loss: 0.5700\n",
      "-- Epoch 16\n",
      "Avg. Training Loss: 0.5551\n",
      "-- Epoch 17\n",
      "Avg. Training Loss: 0.5415\n",
      "-- Epoch 18\n",
      "Avg. Training Loss: 0.5290\n",
      "-- Epoch 19\n",
      "Avg. Training Loss: 0.5175\n",
      "-- Epoch 20\n",
      "Avg. Training Loss: 0.5068\n",
      "-- Epoch 21\n",
      "Avg. Training Loss: 0.4968\n",
      "-- Epoch 22\n",
      "Avg. Training Loss: 0.4875\n",
      "-- Epoch 23\n",
      "Avg. Training Loss: 0.4788\n",
      "-- Epoch 24\n",
      "Avg. Training Loss: 0.4706\n",
      "-- Epoch 25\n",
      "Avg. Training Loss: 0.4629\n",
      "-- Epoch 26\n",
      "Avg. Training Loss: 0.4556\n",
      "-- Epoch 27\n",
      "Avg. Training Loss: 0.4487\n",
      "-- Epoch 28\n",
      "Avg. Training Loss: 0.4422\n",
      "-- Epoch 29\n",
      "Avg. Training Loss: 0.4359\n",
      "-- Epoch 30\n",
      "Avg. Training Loss: 0.4300\n",
      "-- Epoch 31\n",
      "Avg. Training Loss: 0.4243\n",
      "-- Epoch 32\n",
      "Avg. Training Loss: 0.4189\n",
      "-- Epoch 33\n",
      "Avg. Training Loss: 0.4138\n",
      "-- Epoch 34\n",
      "Avg. Training Loss: 0.4088\n",
      "-- Epoch 35\n",
      "Avg. Training Loss: 0.4041\n",
      "-- Epoch 36\n",
      "Avg. Training Loss: 0.3995\n",
      "-- Epoch 37\n",
      "Avg. Training Loss: 0.3951\n",
      "-- Epoch 38\n",
      "Avg. Training Loss: 0.3909\n",
      "-- Epoch 39\n",
      "Avg. Training Loss: 0.3868\n",
      "-- Epoch 40\n",
      "Avg. Training Loss: 0.3829\n",
      "-- Epoch 41\n",
      "Avg. Training Loss: 0.3791\n",
      "-- Epoch 42\n",
      "Avg. Training Loss: 0.3754\n",
      "-- Epoch 43\n",
      "Avg. Training Loss: 0.3718\n",
      "-- Epoch 44\n",
      "Avg. Training Loss: 0.3684\n",
      "-- Epoch 45\n",
      "Avg. Training Loss: 0.3651\n",
      "-- Epoch 46\n",
      "Avg. Training Loss: 0.3618\n",
      "-- Epoch 47\n",
      "Avg. Training Loss: 0.3587\n",
      "-- Epoch 48\n",
      "Avg. Training Loss: 0.3556\n",
      "-- Epoch 49\n",
      "Avg. Training Loss: 0.3527\n",
      "-- Epoch 50\n",
      "Avg. Training Loss: 0.3498\n"
     ]
    }
   ],
   "source": [
    "sess = tf.Session(graph=g)\n",
    "sess.run(init_op)\n",
    "\n",
    "# 50epochsでトレーニング\n",
    "training_costs = []\n",
    "for epoch in range(50):\n",
    "    training_loss = []\n",
    "    batch_generator = create_batch_generator(X_train_cent, y_train, batch_size=64)\n",
    "    \n",
    "    for batch_X, batch_y in batch_generator:\n",
    "        ## NNへのデータ供給用dict\n",
    "        feed = {tf_x:batch_X, tf_y:batch_y}\n",
    "        _, batch_cost = sess.run([train_op, cost], feed_dict=feed)\n",
    "        training_costs.append(batch_cost)\n",
    "    print(\"-- Epoch {:2d}\\nAvg. Training Loss: {:.4f}\".format(epoch + 1, np.mean(training_costs)))"
   ]
  },
  {
   "cell_type": "markdown",
   "metadata": {},
   "source": [
    "あとは、学習したモデルにテストデータを入れて、正解率とかを見てみる"
   ]
  },
  {
   "cell_type": "markdown",
   "metadata": {},
   "source": [
    "### Kerasを使って上記と同じ分類モデルを作ってみる"
   ]
  },
  {
   "cell_type": "code",
   "execution_count": 11,
   "metadata": {},
   "outputs": [
    {
     "name": "stdout",
     "output_type": "stream",
     "text": [
      "WARNING:tensorflow:\n",
      "The TensorFlow contrib module will not be included in TensorFlow 2.0.\n",
      "For more information, please see:\n",
      "  * https://github.com/tensorflow/community/blob/master/rfcs/20180907-contrib-sunset.md\n",
      "  * https://github.com/tensorflow/addons\n",
      "  * https://github.com/tensorflow/io (for I/O related ops)\n",
      "If you depend on functionality not listed there, please file an issue.\n",
      "\n"
     ]
    }
   ],
   "source": [
    "import tensorflow.contrib.keras as keras"
   ]
  },
  {
   "cell_type": "markdown",
   "metadata": {},
   "source": [
    "MNISTデータセットを↑のせるを実行して読み込んでおく"
   ]
  },
  {
   "cell_type": "code",
   "execution_count": 12,
   "metadata": {},
   "outputs": [],
   "source": [
    "np.random.seed(123)\n",
    "tf.set_random_seed(123)"
   ]
  },
  {
   "cell_type": "markdown",
   "metadata": {},
   "source": [
    "クラスラベル0~9をonehotラベルに変える"
   ]
  },
  {
   "cell_type": "code",
   "execution_count": 14,
   "metadata": {},
   "outputs": [
    {
     "name": "stdout",
     "output_type": "stream",
     "text": [
      "First 3 labels:  [5 0 4]\n"
     ]
    }
   ],
   "source": [
    "y_train_onehot = keras.utils.to_categorical(y_train)\n",
    "print(\"First 3 labels: \", y_train[:3])"
   ]
  },
  {
   "cell_type": "code",
   "execution_count": 15,
   "metadata": {},
   "outputs": [
    {
     "name": "stdout",
     "output_type": "stream",
     "text": [
      "First 3 labels to onehot: \n",
      " [[0. 0. 0. 0. 0. 1. 0. 0. 0. 0.]\n",
      " [1. 0. 0. 0. 0. 0. 0. 0. 0. 0.]\n",
      " [0. 0. 0. 0. 1. 0. 0. 0. 0. 0.]]\n"
     ]
    }
   ],
   "source": [
    "print(\"First 3 labels to onehot: \\n\", y_train_onehot[:3])"
   ]
  },
  {
   "cell_type": "markdown",
   "metadata": {},
   "source": [
    "NNを定義してモデルをコンパイルさせる"
   ]
  },
  {
   "cell_type": "code",
   "execution_count": null,
   "metadata": {},
   "outputs": [],
   "source": []
  },
  {
   "cell_type": "markdown",
   "metadata": {},
   "source": [
    "モデルをコンパイルした後は、fitメソッドでモデルを学習する"
   ]
  },
  {
   "cell_type": "code",
   "execution_count": null,
   "metadata": {},
   "outputs": [],
   "source": []
  },
  {
   "cell_type": "markdown",
   "metadata": {},
   "source": [
    "訓練データに対してクラスラベルを予測してみる"
   ]
  },
  {
   "cell_type": "code",
   "execution_count": null,
   "metadata": {},
   "outputs": [],
   "source": []
  },
  {
   "cell_type": "markdown",
   "metadata": {},
   "source": [
    "訓練データとテストデータでモデルの正解率を比較する"
   ]
  },
  {
   "cell_type": "code",
   "execution_count": null,
   "metadata": {},
   "outputs": [],
   "source": []
  },
  {
   "cell_type": "markdown",
   "metadata": {},
   "source": [
    "### NNでの活性化関数の選択"
   ]
  },
  {
   "cell_type": "markdown",
   "metadata": {},
   "source": [
    "テキスト参照"
   ]
  },
  {
   "cell_type": "code",
   "execution_count": null,
   "metadata": {},
   "outputs": [],
   "source": []
  }
 ],
 "metadata": {
  "kernelspec": {
   "display_name": "Python 3",
   "language": "python",
   "name": "python3"
  },
  "language_info": {
   "codemirror_mode": {
    "name": "ipython",
    "version": 3
   },
   "file_extension": ".py",
   "mimetype": "text/x-python",
   "name": "python",
   "nbconvert_exporter": "python",
   "pygments_lexer": "ipython3",
   "version": "3.7.4"
  }
 },
 "nbformat": 4,
 "nbformat_minor": 4
}
