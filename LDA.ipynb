{
 "cells": [
  {
   "cell_type": "markdown",
   "metadata": {},
   "source": [
    "# 線形判別分析（LDA）"
   ]
  },
  {
   "cell_type": "markdown",
   "metadata": {},
   "source": [
    "### データの読み込み"
   ]
  },
  {
   "cell_type": "code",
   "execution_count": 1,
   "metadata": {},
   "outputs": [
    {
     "name": "stderr",
     "output_type": "stream",
     "text": [
      "/opt/anaconda3/lib/python3.7/importlib/_bootstrap.py:219: RuntimeWarning: numpy.ufunc size changed, may indicate binary incompatibility. Expected 192 from C header, got 216 from PyObject\n",
      "  return f(*args, **kwds)\n"
     ]
    }
   ],
   "source": [
    "import pandas as pd\n",
    "import numpy as np\n",
    "import matplotlib.pyplot as plt\n",
    "%matplotlib inline"
   ]
  },
  {
   "cell_type": "code",
   "execution_count": 2,
   "metadata": {},
   "outputs": [
    {
     "data": {
      "text/html": [
       "<div>\n",
       "<style scoped>\n",
       "    .dataframe tbody tr th:only-of-type {\n",
       "        vertical-align: middle;\n",
       "    }\n",
       "\n",
       "    .dataframe tbody tr th {\n",
       "        vertical-align: top;\n",
       "    }\n",
       "\n",
       "    .dataframe thead th {\n",
       "        text-align: right;\n",
       "    }\n",
       "</style>\n",
       "<table border=\"1\" class=\"dataframe\">\n",
       "  <thead>\n",
       "    <tr style=\"text-align: right;\">\n",
       "      <th></th>\n",
       "      <th>0</th>\n",
       "      <th>1</th>\n",
       "      <th>2</th>\n",
       "      <th>3</th>\n",
       "      <th>4</th>\n",
       "      <th>5</th>\n",
       "      <th>6</th>\n",
       "      <th>7</th>\n",
       "      <th>8</th>\n",
       "      <th>9</th>\n",
       "      <th>10</th>\n",
       "      <th>11</th>\n",
       "      <th>12</th>\n",
       "      <th>13</th>\n",
       "    </tr>\n",
       "  </thead>\n",
       "  <tbody>\n",
       "    <tr>\n",
       "      <td>0</td>\n",
       "      <td>1</td>\n",
       "      <td>14.23</td>\n",
       "      <td>1.71</td>\n",
       "      <td>2.43</td>\n",
       "      <td>15.6</td>\n",
       "      <td>127</td>\n",
       "      <td>2.80</td>\n",
       "      <td>3.06</td>\n",
       "      <td>0.28</td>\n",
       "      <td>2.29</td>\n",
       "      <td>5.64</td>\n",
       "      <td>1.04</td>\n",
       "      <td>3.92</td>\n",
       "      <td>1065</td>\n",
       "    </tr>\n",
       "    <tr>\n",
       "      <td>1</td>\n",
       "      <td>1</td>\n",
       "      <td>13.20</td>\n",
       "      <td>1.78</td>\n",
       "      <td>2.14</td>\n",
       "      <td>11.2</td>\n",
       "      <td>100</td>\n",
       "      <td>2.65</td>\n",
       "      <td>2.76</td>\n",
       "      <td>0.26</td>\n",
       "      <td>1.28</td>\n",
       "      <td>4.38</td>\n",
       "      <td>1.05</td>\n",
       "      <td>3.40</td>\n",
       "      <td>1050</td>\n",
       "    </tr>\n",
       "    <tr>\n",
       "      <td>2</td>\n",
       "      <td>1</td>\n",
       "      <td>13.16</td>\n",
       "      <td>2.36</td>\n",
       "      <td>2.67</td>\n",
       "      <td>18.6</td>\n",
       "      <td>101</td>\n",
       "      <td>2.80</td>\n",
       "      <td>3.24</td>\n",
       "      <td>0.30</td>\n",
       "      <td>2.81</td>\n",
       "      <td>5.68</td>\n",
       "      <td>1.03</td>\n",
       "      <td>3.17</td>\n",
       "      <td>1185</td>\n",
       "    </tr>\n",
       "  </tbody>\n",
       "</table>\n",
       "</div>"
      ],
      "text/plain": [
       "   0      1     2     3     4    5     6     7     8     9     10    11    12  \\\n",
       "0   1  14.23  1.71  2.43  15.6  127  2.80  3.06  0.28  2.29  5.64  1.04  3.92   \n",
       "1   1  13.20  1.78  2.14  11.2  100  2.65  2.76  0.26  1.28  4.38  1.05  3.40   \n",
       "2   1  13.16  2.36  2.67  18.6  101  2.80  3.24  0.30  2.81  5.68  1.03  3.17   \n",
       "\n",
       "     13  \n",
       "0  1065  \n",
       "1  1050  \n",
       "2  1185  "
      ]
     },
     "execution_count": 2,
     "metadata": {},
     "output_type": "execute_result"
    }
   ],
   "source": [
    "df_wine = pd.read_csv(\"https://archive.ics.uci.edu/ml/machine-learning-databases/wine/wine.data\", header=None)\n",
    "df_wine.head(3)"
   ]
  },
  {
   "cell_type": "markdown",
   "metadata": {},
   "source": [
    "### データの標準化"
   ]
  },
  {
   "cell_type": "code",
   "execution_count": 3,
   "metadata": {},
   "outputs": [],
   "source": [
    "from sklearn.preprocessing import StandardScaler\n",
    "\n",
    "X, y = df_wine.iloc[:, 1:].values, df_wine.iloc[:, 0].values"
   ]
  },
  {
   "cell_type": "code",
   "execution_count": 4,
   "metadata": {},
   "outputs": [],
   "source": [
    "from sklearn.model_selection import train_test_split\n",
    "\n",
    "X_train, X_test, y_train, y_test = train_test_split(X, y, test_size=0.3, stratify=y, random_state=0)\n",
    "sc = StandardScaler()\n",
    "\n",
    "X_train_std = sc.fit_transform(X_train)\n",
    "X_test_std = sc.transform(X_test)"
   ]
  },
  {
   "cell_type": "markdown",
   "metadata": {},
   "source": [
    "### クラスごとの平均ベクトル  \n",
    "例えば、クラスAの各特徴量毎の平均値のあつまり、がこれにあたる"
   ]
  },
  {
   "cell_type": "code",
   "execution_count": 6,
   "metadata": {},
   "outputs": [
    {
     "name": "stdout",
     "output_type": "stream",
     "text": [
      "MV1: [array([ 0.9066, -0.3497,  0.3201, -0.7189,  0.5056,  0.8807,  0.9589,\n",
      "       -0.5516,  0.5416,  0.2338,  0.5897,  0.6563,  1.2075])]\n",
      "MV2: [array([ 0.9066, -0.3497,  0.3201, -0.7189,  0.5056,  0.8807,  0.9589,\n",
      "       -0.5516,  0.5416,  0.2338,  0.5897,  0.6563,  1.2075]), array([-0.8749, -0.2848, -0.3735,  0.3157, -0.3848, -0.0433,  0.0635,\n",
      "       -0.0946,  0.0703, -0.8286,  0.3144,  0.3608, -0.7253])]\n",
      "MV3: [array([ 0.9066, -0.3497,  0.3201, -0.7189,  0.5056,  0.8807,  0.9589,\n",
      "       -0.5516,  0.5416,  0.2338,  0.5897,  0.6563,  1.2075]), array([-0.8749, -0.2848, -0.3735,  0.3157, -0.3848, -0.0433,  0.0635,\n",
      "       -0.0946,  0.0703, -0.8286,  0.3144,  0.3608, -0.7253]), array([ 0.1992,  0.866 ,  0.1682,  0.4148, -0.0451, -1.0286, -1.2876,\n",
      "        0.8287, -0.7795,  0.9649, -1.209 , -1.3622, -0.4013])]\n"
     ]
    }
   ],
   "source": [
    "np.set_printoptions(precision=4)\n",
    "mean_vecs=[]\n",
    "for label in range(1,4):\n",
    "    mean_vecs.append(np.mean(X_train_std[y_train==label], axis=0))\n",
    "    print('MV{}: {}'.format(label, mean_vecs))"
   ]
  },
  {
   "cell_type": "markdown",
   "metadata": {},
   "source": [
    "クラス内変動行列を計算する"
   ]
  },
  {
   "cell_type": "code",
   "execution_count": 8,
   "metadata": {},
   "outputs": [
    {
     "data": {
      "text/plain": [
       "array([[0., 0., 0., 0., 0., 0., 0., 0., 0., 0., 0., 0., 0.],\n",
       "       [0., 0., 0., 0., 0., 0., 0., 0., 0., 0., 0., 0., 0.],\n",
       "       [0., 0., 0., 0., 0., 0., 0., 0., 0., 0., 0., 0., 0.],\n",
       "       [0., 0., 0., 0., 0., 0., 0., 0., 0., 0., 0., 0., 0.],\n",
       "       [0., 0., 0., 0., 0., 0., 0., 0., 0., 0., 0., 0., 0.],\n",
       "       [0., 0., 0., 0., 0., 0., 0., 0., 0., 0., 0., 0., 0.],\n",
       "       [0., 0., 0., 0., 0., 0., 0., 0., 0., 0., 0., 0., 0.],\n",
       "       [0., 0., 0., 0., 0., 0., 0., 0., 0., 0., 0., 0., 0.],\n",
       "       [0., 0., 0., 0., 0., 0., 0., 0., 0., 0., 0., 0., 0.],\n",
       "       [0., 0., 0., 0., 0., 0., 0., 0., 0., 0., 0., 0., 0.],\n",
       "       [0., 0., 0., 0., 0., 0., 0., 0., 0., 0., 0., 0., 0.],\n",
       "       [0., 0., 0., 0., 0., 0., 0., 0., 0., 0., 0., 0., 0.],\n",
       "       [0., 0., 0., 0., 0., 0., 0., 0., 0., 0., 0., 0., 0.]])"
      ]
     },
     "execution_count": 8,
     "metadata": {},
     "output_type": "execute_result"
    }
   ],
   "source": [
    "d = 13\n",
    "S_W = np.zeros((d, d))\n",
    "S_W"
   ]
  },
  {
   "cell_type": "code",
   "execution_count": 9,
   "metadata": {},
   "outputs": [
    {
     "name": "stdout",
     "output_type": "stream",
     "text": [
      "Within-class scatter matrix: 13x13\n"
     ]
    }
   ],
   "source": [
    "for label, mv in zip(range(1,4), mean_vecs):\n",
    "    class_scatter = np.zeros((d, d))\n",
    "    for row in X_train_std[y_train==label]:\n",
    "        row, mv = row.reshape(d, 1), mv.reshape(d, 1)\n",
    "        class_scatter += (row-mv).dot((row-mv).T)\n",
    "    S_W += class_scatter\n",
    "    \n",
    "print('Within-class scatter matrix: {}x{}'.format(S_W.shape[0], S_W.shape[1]))"
   ]
  },
  {
   "cell_type": "markdown",
   "metadata": {},
   "source": [
    "変動行列を計算するときの前提条件として  \n",
    "クラスラベルが一様に分布していることが必要"
   ]
  },
  {
   "cell_type": "code",
   "execution_count": 10,
   "metadata": {},
   "outputs": [
    {
     "name": "stdout",
     "output_type": "stream",
     "text": [
      "Class label distribution: [41 50 33]\n"
     ]
    }
   ],
   "source": [
    "print('Class label distribution: {}'.format(np.bincount(y_train)[1:]))"
   ]
  },
  {
   "cell_type": "markdown",
   "metadata": {},
   "source": [
    "分布していないから、スケーリングする"
   ]
  },
  {
   "cell_type": "code",
   "execution_count": 11,
   "metadata": {},
   "outputs": [],
   "source": [
    "d = 13\n",
    "S_W = np.zeros((d, d))\n",
    "for label, mv in zip(range(1,4), mean_vecs):\n",
    "    class_scatter = np.cov(X_train_std[y_train==label].T)\n",
    "    S_W += class_scatter"
   ]
  },
  {
   "cell_type": "code",
   "execution_count": 12,
   "metadata": {
    "collapsed": true,
    "jupyter": {
     "outputs_hidden": true
    }
   },
   "outputs": [
    {
     "data": {
      "text/plain": [
       "array([[ 1.2448,  0.0967, -0.1276, -0.1105, -0.0726,  0.2374,  0.0753,\n",
       "         0.0231,  0.1102,  0.4261,  0.1411, -0.0155,  0.1224],\n",
       "       [ 0.0967,  2.2666,  0.1168,  0.3517, -0.2622, -0.0467, -0.0186,\n",
       "         0.2194,  0.0187, -0.3939, -0.4167,  0.0787, -0.2492],\n",
       "       [-0.1276,  0.1168,  2.6024,  1.6442,  0.5364,  0.3947,  0.3191,\n",
       "         0.4553, -0.0353,  0.06  ,  0.167 ,  0.1987, -0.0081],\n",
       "       [-0.1105,  0.3517,  1.6442,  2.1604,  0.325 ,  0.1535,  0.1222,\n",
       "         0.273 , -0.0824, -0.068 ,  0.0336,  0.2548, -0.1201],\n",
       "       [-0.0726, -0.2622,  0.5364,  0.325 ,  2.4397,  0.2384,  0.1433,\n",
       "        -0.5166,  0.2566,  0.1445,  0.1777, -0.0058,  0.2509],\n",
       "       [ 0.2374, -0.0467,  0.3947,  0.1535,  0.2384,  1.352 ,  0.6416,\n",
       "        -0.0781,  0.7644,  0.4392,  0.0177,  0.4359,  0.1554],\n",
       "       [ 0.0753, -0.0186,  0.3191,  0.1222,  0.1433,  0.6416,  0.6968,\n",
       "        -0.2588,  0.5765,  0.3851, -0.0408,  0.2525,  0.0748],\n",
       "       [ 0.0231,  0.2194,  0.4553,  0.273 , -0.5166, -0.0781, -0.2588,\n",
       "         2.1795, -0.2801, -0.0363,  0.1208, -0.332 , -0.1485],\n",
       "       [ 0.1102,  0.0187, -0.0353, -0.0824,  0.2566,  0.7644,  0.5765,\n",
       "        -0.2801,  2.1792,  0.6795, -0.1815,  0.2323,  0.1568],\n",
       "       [ 0.4261, -0.3939,  0.06  , -0.068 ,  0.1445,  0.4392,  0.3851,\n",
       "        -0.0363,  0.6795,  1.6141, -0.3417, -0.1241,  0.2666],\n",
       "       [ 0.1411, -0.4167,  0.167 ,  0.0336,  0.1777,  0.0177, -0.0408,\n",
       "         0.1208, -0.1815, -0.3417,  1.3119,  0.0917,  0.2232],\n",
       "       [-0.0155,  0.0787,  0.1987,  0.2548, -0.0058,  0.4359,  0.2525,\n",
       "        -0.332 ,  0.2323, -0.1241,  0.0917,  0.8714, -0.1167],\n",
       "       [ 0.1224, -0.2492, -0.0081, -0.1201,  0.2509,  0.1554,  0.0748,\n",
       "        -0.1485,  0.1568,  0.2666,  0.2232, -0.1167,  0.7862]])"
      ]
     },
     "execution_count": 12,
     "metadata": {},
     "output_type": "execute_result"
    }
   ],
   "source": [
    "S_W"
   ]
  },
  {
   "cell_type": "markdown",
   "metadata": {},
   "source": [
    "クラス間変動行列を求める"
   ]
  },
  {
   "cell_type": "code",
   "execution_count": 17,
   "metadata": {},
   "outputs": [
    {
     "name": "stdout",
     "output_type": "stream",
     "text": [
      "Between-class scatter matrix: 13x13\n"
     ]
    }
   ],
   "source": [
    "# 全データの各特徴量平均\n",
    "mean_overall = np.mean(X_train_std, axis=0)\n",
    "\n",
    "d = 13\n",
    "S_B = np.zeros((d, d))\n",
    "for i, mean_vec in enumerate(mean_vecs):\n",
    "    # 各クラスのデータが何個あるか\n",
    "    n = X_train[y_train == i + 1, :].shape[0]\n",
    "    \n",
    "    # 列ベクトルを生成\n",
    "    mean_vec = mean_vec.reshape(d, 1)\n",
    "    mean_overall = mean_overall.reshape(d, 1)\n",
    "    S_B += n*(mean_vec - mean_overall).dot((mean_vec - mean_overall).T)\n",
    "\n",
    "print('Between-class scatter matrix: {}x{}'.format(S_B.shape[0], S_B.shape[1]))"
   ]
  },
  {
   "cell_type": "markdown",
   "metadata": {},
   "source": [
    "新しい特徴部分空間の線形判別（軸）を選択する"
   ]
  },
  {
   "cell_type": "code",
   "execution_count": 18,
   "metadata": {},
   "outputs": [],
   "source": [
    "eigen_vals, eigen_vecs = np.linalg.eig(np.linalg.inv(S_W).dot(S_B))"
   ]
  },
  {
   "cell_type": "code",
   "execution_count": 22,
   "metadata": {
    "collapsed": true,
    "jupyter": {
     "outputs_hidden": true
    }
   },
   "outputs": [
    {
     "data": {
      "text/plain": [
       "[(0.0, array([ 0.7517+0.j, -0.0834+0.j, -0.2406+0.j,  0.2515+0.j, -0.0586+0.j,\n",
       "          0.1027+0.j,  0.0109+0.j, -0.025 +0.j,  0.0611+0.j, -0.0726+0.j,\n",
       "          0.1757+0.j, -0.0943+0.j, -0.4933+0.j])),\n",
       " (172.76152218979388,\n",
       "  array([-0.4092+0.j, -0.1577+0.j, -0.3537+0.j,  0.3223+0.j, -0.0817+0.j,\n",
       "          0.0842+0.j,  0.2823+0.j, -0.0102+0.j,  0.0907+0.j, -0.2152+0.j,\n",
       "          0.2747+0.j, -0.0124+0.j, -0.5958+0.j])),\n",
       " (349.6178089059939,\n",
       "  array([-0.1481+0.j,  0.0908+0.j, -0.0168+0.j,  0.1484+0.j, -0.0163+0.j,\n",
       "          0.1913+0.j, -0.7338+0.j, -0.075 +0.j,  0.0018+0.j,  0.294 +0.j,\n",
       "         -0.0328+0.j, -0.3547+0.j, -0.3915+0.j])),\n",
       " (3.7853134512521556e-14,\n",
       "  array([ 0.406 +0.j,  0.153 +0.j,  0.2157+0.j,  0.1153+0.j,  0.0043+0.j,\n",
       "         -0.038 +0.j, -0.5208+0.j, -0.0864+0.j,  0.1421+0.j, -0.0811+0.j,\n",
       "         -0.0103+0.j,  0.6254+0.j, -0.2319+0.j])),\n",
       " (2.117398448224407e-14,\n",
       "  array([-0.5115+0.j, -0.1468+0.j,  0.0056+0.j, -0.1081+0.j, -0.1021+0.j,\n",
       "          0.2103+0.j, -0.1468+0.j, -0.0279+0.j, -0.0711+0.j, -0.2123+0.j,\n",
       "         -0.3724+0.j, -0.1993+0.j,  0.6322+0.j])),\n",
       " (1.5164618894178885e-14,\n",
       "  array([-0.6795+0.j    ,  0.1224+0.0641j,  0.0873+0.0821j, -0.3026-0.0141j,\n",
       "          0.0499+0.0023j, -0.1432+0.0557j, -0.0806-0.0204j,  0.0336-0.0378j,\n",
       "         -0.0529+0.0346j, -0.0033-0.1045j, -0.1923-0.061j ,  0.137 -0.0395j,\n",
       "          0.5491+0.0017j])),\n",
       " (1.5164618894178885e-14,\n",
       "  array([-0.6795-0.j    ,  0.1224-0.0641j,  0.0873-0.0821j, -0.3026+0.0141j,\n",
       "          0.0499-0.0023j, -0.1432-0.0557j, -0.0806+0.0204j,  0.0336+0.0378j,\n",
       "         -0.0529-0.0346j, -0.0033+0.1045j, -0.1923+0.061j ,  0.137 +0.0395j,\n",
       "          0.5491-0.0017j])),\n",
       " (1.3579567140455979e-14,\n",
       "  array([ 0.6167+0.j    , -0.0988+0.0079j, -0.2082-0.047j ,  0.0359+0.1655j,\n",
       "         -0.0757-0.0479j,  0.1065-0.1211j, -0.0264+0.2665j, -0.1637-0.058j ,\n",
       "          0.087 +0.0359j, -0.0395+0.0271j,  0.1121-0.2787j, -0.1668+0.0864j,\n",
       "         -0.5103+0.0514j])),\n",
       " (1.3579567140455979e-14,\n",
       "  array([ 0.6167-0.j    , -0.0988-0.0079j, -0.2082+0.047j ,  0.0359-0.1655j,\n",
       "         -0.0757+0.0479j,  0.1065+0.1211j, -0.0264-0.2665j, -0.1637+0.058j ,\n",
       "          0.087 -0.0359j, -0.0395-0.0271j,  0.1121+0.2787j, -0.1668-0.0864j,\n",
       "         -0.5103-0.0514j])),\n",
       " (7.587760371654683e-15,\n",
       "  array([ 0.7528+0.j, -0.0926+0.j, -0.2838+0.j,  0.2738+0.j, -0.0627+0.j,\n",
       "          0.0217+0.j,  0.0449+0.j, -0.0851+0.j,  0.0471+0.j, -0.0533+0.j,\n",
       "          0.1673+0.j, -0.0855+0.j, -0.4639+0.j])),\n",
       " (5.906039984472233e-15,\n",
       "  array([ 0.6923+0.j    , -0.1152+0.051j , -0.3075-0.1804j,  0.2521-0.0098j,\n",
       "          0.0819-0.0293j,  0.1051+0.033j , -0.0057+0.0149j, -0.0068-0.0514j,\n",
       "          0.0416+0.0129j, -0.0443+0.0641j,  0.1886+0.0468j, -0.0947-0.0672j,\n",
       "         -0.4818+0.005j ])),\n",
       " (5.906039984472233e-15,\n",
       "  array([ 0.6923-0.j    , -0.1152-0.051j , -0.3075+0.1804j,  0.2521+0.0098j,\n",
       "          0.0819+0.0293j,  0.1051-0.033j , -0.0057-0.0149j, -0.0068+0.0514j,\n",
       "          0.0416-0.0129j, -0.0443-0.0641j,  0.1886-0.0468j, -0.0947+0.0672j,\n",
       "         -0.4818-0.005j ])),\n",
       " (2.256441978569674e-15,\n",
       "  array([ 0.7594+0.j, -0.0752+0.j, -0.2155+0.j,  0.2746+0.j, -0.0827+0.j,\n",
       "          0.0831+0.j,  0.0139+0.j, -0.0205+0.j,  0.1022+0.j, -0.0811+0.j,\n",
       "          0.1603+0.j, -0.0816+0.j, -0.4818+0.j]))]"
      ]
     },
     "execution_count": 22,
     "metadata": {},
     "output_type": "execute_result"
    }
   ],
   "source": [
    "eigen_pairs = [(np.abs(eigen_vals[i]), eigen_vecs[:, i]) for i in range(len(eigen_vals))]\n",
    "eigen_pairs"
   ]
  },
  {
   "cell_type": "code",
   "execution_count": 25,
   "metadata": {},
   "outputs": [
    {
     "name": "stdout",
     "output_type": "stream",
     "text": [
      "349.6178089059939\n",
      "172.76152218979388\n",
      "3.7853134512521556e-14\n",
      "2.117398448224407e-14\n",
      "1.5164618894178885e-14\n",
      "1.5164618894178885e-14\n",
      "1.3579567140455979e-14\n",
      "1.3579567140455979e-14\n",
      "7.587760371654683e-15\n",
      "5.906039984472233e-15\n",
      "5.906039984472233e-15\n",
      "2.256441978569674e-15\n",
      "0.0\n"
     ]
    }
   ],
   "source": [
    "eigen_pairs = sorted(eigen_pairs, key=lambda k: k[0], reverse=True)\n",
    "for eigen_val in eigen_pairs:\n",
    "    print(eigen_val[0])"
   ]
  },
  {
   "cell_type": "code",
   "execution_count": null,
   "metadata": {},
   "outputs": [],
   "source": []
  },
  {
   "cell_type": "markdown",
   "metadata": {},
   "source": [
    "# sklearnでLDAを実装してみる"
   ]
  },
  {
   "cell_type": "code",
   "execution_count": null,
   "metadata": {},
   "outputs": [],
   "source": []
  }
 ],
 "metadata": {
  "kernelspec": {
   "display_name": "Python 3",
   "language": "python",
   "name": "python3"
  },
  "language_info": {
   "codemirror_mode": {
    "name": "ipython",
    "version": 3
   },
   "file_extension": ".py",
   "mimetype": "text/x-python",
   "name": "python",
   "nbconvert_exporter": "python",
   "pygments_lexer": "ipython3",
   "version": "3.7.4"
  }
 },
 "nbformat": 4,
 "nbformat_minor": 4
}
