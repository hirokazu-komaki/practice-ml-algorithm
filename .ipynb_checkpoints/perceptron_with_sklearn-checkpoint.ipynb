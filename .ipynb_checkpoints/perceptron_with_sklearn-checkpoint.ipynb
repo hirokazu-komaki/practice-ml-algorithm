{
 "cells": [
  {
   "cell_type": "code",
   "execution_count": 1,
   "metadata": {},
   "outputs": [
    {
     "name": "stdout",
     "output_type": "stream",
     "text": [
      "[0 1 2]\n"
     ]
    }
   ],
   "source": [
    "from sklearn import datasets\n",
    "import numpy as np\n",
    "\n",
    "iris = datasets.load_iris()\n",
    "X = iris.data[:, [2,3]]\n",
    "y = iris.target\n",
    "\n",
    "# クラスラベルの種類を確認\n",
    "print(np.unique(y))"
   ]
  },
  {
   "cell_type": "code",
   "execution_count": 2,
   "metadata": {},
   "outputs": [],
   "source": [
    "from sklearn.model_selection import train_test_split\n",
    "# データセットの分割（訓練、テスト）\n",
    "# 訓練データ\n",
    "X_train, X_test, y_train, y_test = train_test_split(X, y, test_size=0.3, random_state=1, stratify=y)"
   ]
  },
  {
   "cell_type": "markdown",
   "metadata": {},
   "source": [
    "stratifyは層化サンプリングの利用を定義している  \n",
    "今回だとクラスラベルに対して、入力データを訓練とテストに分けた時に  \n",
    "入力データの場合は、Irisの3品種のラベルが「1:1:1」の割合で含まれていて  \n",
    "y_train、y_testに含まれるラベルの比率も「1:1:1」にしたい、ということ"
   ]
  },
  {
   "cell_type": "code",
   "execution_count": 3,
   "metadata": {},
   "outputs": [
    {
     "name": "stdout",
     "output_type": "stream",
     "text": [
      "Label count in y: [50 50 50]\n"
     ]
    }
   ],
   "source": [
    "print(\"Label count in y:\", np.bincount(y))"
   ]
  },
  {
   "cell_type": "code",
   "execution_count": 4,
   "metadata": {},
   "outputs": [
    {
     "name": "stdout",
     "output_type": "stream",
     "text": [
      "Label counts in y_train: [35 35 35]\n"
     ]
    }
   ],
   "source": [
    "print(\"Label counts in y_train:\", np.bincount(y_train))"
   ]
  },
  {
   "cell_type": "code",
   "execution_count": 5,
   "metadata": {},
   "outputs": [
    {
     "name": "stdout",
     "output_type": "stream",
     "text": [
      "Label counts in y_test: [15 15 15]\n"
     ]
    }
   ],
   "source": [
    "print(\"Label counts in y_test:\", np.bincount(y_test))"
   ]
  },
  {
   "cell_type": "code",
   "execution_count": 6,
   "metadata": {},
   "outputs": [],
   "source": [
    "# 特徴量のスケーリング\n",
    "from sklearn.preprocessing import StandardScaler\n",
    "\n",
    "sc = StandardScaler()\n",
    "\n",
    "# 訓練データの平均と標準偏差を取得\n",
    "sc.fit(X_train)\n",
    "\n",
    "# スケーリング、今回は標準化\n",
    "X_train_std = sc.transform(X_train)\n",
    "X_test_std = sc.transform(X_test)"
   ]
  },
  {
   "cell_type": "code",
   "execution_count": 7,
   "metadata": {},
   "outputs": [
    {
     "name": "stdout",
     "output_type": "stream",
     "text": [
      "誤分類したサンプル数: 2\n"
     ]
    }
   ],
   "source": [
    "# perceptronを使って訓練してみる\n",
    "from sklearn.linear_model import Perceptron\n",
    "\n",
    "# モデルを訓練\n",
    "ppn = Perceptron(max_iter=40, eta0=0.01, random_state=1)\n",
    "ppn.fit(X_train_std, y_train)\n",
    "\n",
    "# ↑のモデルを使って予測\n",
    "y_pred = ppn.predict(X_test_std)\n",
    "\n",
    "# 誤分類したサンプルの個数を表示\n",
    "print(\"誤分類したサンプル数:\", (y_test != y_pred).sum())"
   ]
  },
  {
   "cell_type": "code",
   "execution_count": 8,
   "metadata": {},
   "outputs": [
    {
     "data": {
      "text/plain": [
       "0.9555555555555556"
      ]
     },
     "execution_count": 8,
     "metadata": {},
     "output_type": "execute_result"
    }
   ],
   "source": [
    "# モデルの正解率\n",
    "correct = 1 - ((y_test != y_pred).sum() / len(X_test_std))\n",
    "correct"
   ]
  },
  {
   "cell_type": "code",
   "execution_count": 9,
   "metadata": {},
   "outputs": [
    {
     "name": "stdout",
     "output_type": "stream",
     "text": [
      "Accuracy: 0.956\n"
     ]
    }
   ],
   "source": [
    "# sklearnを使って正解率を出してみる\n",
    "from sklearn.metrics import accuracy_score\n",
    "print(\"Accuracy: {:.3f}\".format(accuracy_score(y_test, y_pred)))"
   ]
  },
  {
   "cell_type": "code",
   "execution_count": 10,
   "metadata": {},
   "outputs": [
    {
     "data": {
      "text/plain": [
       "0.9555555555555556"
      ]
     },
     "execution_count": 10,
     "metadata": {},
     "output_type": "execute_result"
    }
   ],
   "source": [
    "# accuracy_scoreを使わない場合\n",
    "# モデルが持ってるscoreメソッドを使う\n",
    "ppn.score(X_test_std, y_test)"
   ]
  },
  {
   "cell_type": "markdown",
   "metadata": {},
   "source": [
    "### 決定領域をグラフ化"
   ]
  },
  {
   "cell_type": "code",
   "execution_count": 19,
   "metadata": {},
   "outputs": [
    {
     "data": {
      "image/png": "[encoded data removed]",
      "text/plain": [
       "<Figure size 432x288 with 1 Axes>"
      ]
     },
     "metadata": {
      "needs_background": "light"
     },
     "output_type": "display_data"
    }
   ],
   "source": [
    "from plot_decision_regions import plot_decision_regions\n",
    "import matplotlib.pyplot as plt\n",
    "%matplotlib inline\n",
    "\n",
    "# 訓練データとテストデータの特徴量を行方向に結合\n",
    "X_combined_std = np.vstack((X_train_std, X_test_std))\n",
    "\n",
    "# 訓練データとテストデータのクラスラベルを結合\n",
    "y_combined = np.hstack((y_train, y_test))\n",
    "\n",
    "# 決定境界のプロット\n",
    "plot_decision_regions(X=X_combined_std, y=y_combined, classifier=ppn, test_idx=range(105,150))\n",
    "\n",
    "plt.xlabel('setosa length [cm std]')\n",
    "plt.ylabel('petal length [cm std]')\n",
    "plt.legend(loc='upper left')\n",
    "plt.tight_layout()\n",
    "plt.show()"
   ]
  },
  {
   "cell_type": "code",
   "execution_count": null,
   "metadata": {},
   "outputs": [],
   "source": []
  },
  {
   "cell_type": "code",
   "execution_count": null,
   "metadata": {},
   "outputs": [],
   "source": []
  },
  {
   "cell_type": "code",
   "execution_count": null,
   "metadata": {},
   "outputs": [],
   "source": []
  },
  {
   "cell_type": "code",
   "execution_count": null,
   "metadata": {},
   "outputs": [],
   "source": []
  },
  {
   "cell_type": "code",
   "execution_count": null,
   "metadata": {},
   "outputs": [],
   "source": []
  },
  {
   "cell_type": "markdown",
   "metadata": {},
   "source": [
    "### 実験"
   ]
  },
  {
   "cell_type": "code",
   "execution_count": 12,
   "metadata": {},
   "outputs": [
    {
     "data": {
      "text/plain": [
       "array([[2, 4],\n",
       "       [3, 5]])"
      ]
     },
     "execution_count": 12,
     "metadata": {},
     "output_type": "execute_result"
    }
   ],
   "source": [
    "a = np.array([[2,3],[4,5]]).T\n",
    "a"
   ]
  },
  {
   "cell_type": "code",
   "execution_count": 13,
   "metadata": {},
   "outputs": [
    {
     "data": {
      "text/plain": [
       "numpy.ndarray"
      ]
     },
     "execution_count": 13,
     "metadata": {},
     "output_type": "execute_result"
    }
   ],
   "source": [
    "type(a)"
   ]
  },
  {
   "cell_type": "code",
   "execution_count": 14,
   "metadata": {},
   "outputs": [
    {
     "data": {
      "text/plain": [
       "(2, 2)"
      ]
     },
     "execution_count": 14,
     "metadata": {},
     "output_type": "execute_result"
    }
   ],
   "source": [
    "a.shape"
   ]
  },
  {
   "cell_type": "code",
   "execution_count": 15,
   "metadata": {},
   "outputs": [
    {
     "data": {
      "text/plain": [
       "array([1.  , 1.02, 1.04, 1.06, 1.08, 1.1 , 1.12, 1.14, 1.16, 1.18, 1.2 ,\n",
       "       1.22, 1.24, 1.26, 1.28, 1.3 , 1.32, 1.34, 1.36, 1.38, 1.4 , 1.42,\n",
       "       1.44, 1.46, 1.48, 1.5 , 1.52, 1.54, 1.56, 1.58, 1.6 , 1.62, 1.64,\n",
       "       1.66, 1.68, 1.7 , 1.72, 1.74, 1.76, 1.78, 1.8 , 1.82, 1.84, 1.86,\n",
       "       1.88, 1.9 , 1.92, 1.94, 1.96, 1.98, 2.  , 2.02, 2.04, 2.06, 2.08,\n",
       "       2.1 , 2.12, 2.14, 2.16, 2.18, 2.2 , 2.22, 2.24, 2.26, 2.28, 2.3 ,\n",
       "       2.32, 2.34, 2.36, 2.38, 2.4 , 2.42, 2.44, 2.46, 2.48, 2.5 , 2.52,\n",
       "       2.54, 2.56, 2.58, 2.6 , 2.62, 2.64, 2.66, 2.68, 2.7 , 2.72, 2.74,\n",
       "       2.76, 2.78, 2.8 , 2.82, 2.84, 2.86, 2.88, 2.9 , 2.92, 2.94, 2.96,\n",
       "       2.98, 3.  , 3.02, 3.04, 3.06, 3.08, 3.1 , 3.12, 3.14, 3.16, 3.18,\n",
       "       3.2 , 3.22, 3.24, 3.26, 3.28, 3.3 , 3.32, 3.34, 3.36, 3.38, 3.4 ,\n",
       "       3.42, 3.44, 3.46, 3.48, 3.5 , 3.52, 3.54, 3.56, 3.58, 3.6 , 3.62,\n",
       "       3.64, 3.66, 3.68, 3.7 , 3.72, 3.74, 3.76, 3.78, 3.8 , 3.82, 3.84,\n",
       "       3.86, 3.88, 3.9 , 3.92, 3.94, 3.96, 3.98, 4.  , 4.02, 4.04, 4.06,\n",
       "       4.08, 4.1 , 4.12, 4.14, 4.16, 4.18, 4.2 , 4.22, 4.24, 4.26, 4.28,\n",
       "       4.3 , 4.32, 4.34, 4.36, 4.38, 4.4 , 4.42, 4.44, 4.46, 4.48, 4.5 ,\n",
       "       4.52, 4.54, 4.56, 4.58, 4.6 , 4.62, 4.64, 4.66, 4.68, 4.7 , 4.72,\n",
       "       4.74, 4.76, 4.78, 4.8 , 4.82, 4.84, 4.86, 4.88, 4.9 , 4.92, 4.94,\n",
       "       4.96, 4.98, 5.  , 5.02, 5.04, 5.06, 5.08, 5.1 , 5.12, 5.14, 5.16,\n",
       "       5.18, 5.2 , 5.22, 5.24, 5.26, 5.28, 5.3 , 5.32, 5.34, 5.36, 5.38,\n",
       "       5.4 , 5.42, 5.44, 5.46, 5.48, 5.5 , 5.52, 5.54, 5.56, 5.58, 5.6 ,\n",
       "       5.62, 5.64, 5.66, 5.68, 5.7 , 5.72, 5.74, 5.76, 5.78, 5.8 , 5.82,\n",
       "       5.84, 5.86, 5.88, 5.9 , 5.92, 5.94, 5.96, 5.98, 6.  , 6.02, 6.04,\n",
       "       6.06, 6.08, 6.1 , 6.12, 6.14, 6.16, 6.18, 6.2 , 6.22, 6.24, 6.26,\n",
       "       6.28, 6.3 , 6.32, 6.34, 6.36, 6.38, 6.4 , 6.42, 6.44, 6.46, 6.48,\n",
       "       6.5 , 6.52, 6.54, 6.56, 6.58, 6.6 , 6.62, 6.64, 6.66, 6.68, 6.7 ,\n",
       "       6.72, 6.74, 6.76, 6.78, 6.8 , 6.82, 6.84, 6.86, 6.88, 6.9 , 6.92,\n",
       "       6.94, 6.96, 6.98, 7.  , 7.02, 7.04, 7.06, 7.08, 7.1 , 7.12, 7.14,\n",
       "       7.16, 7.18, 7.2 , 7.22, 7.24, 7.26, 7.28, 7.3 , 7.32, 7.34, 7.36,\n",
       "       7.38, 7.4 , 7.42, 7.44, 7.46, 7.48, 7.5 , 7.52, 7.54, 7.56, 7.58,\n",
       "       7.6 , 7.62, 7.64, 7.66, 7.68, 7.7 , 7.72, 7.74, 7.76, 7.78, 7.8 ,\n",
       "       7.82, 7.84, 7.86, 7.88, 7.9 , 7.92, 7.94, 7.96, 7.98, 8.  , 8.02,\n",
       "       8.04, 8.06, 8.08, 8.1 , 8.12, 8.14, 8.16, 8.18, 8.2 , 8.22, 8.24,\n",
       "       8.26, 8.28, 8.3 , 8.32, 8.34, 8.36, 8.38, 8.4 , 8.42, 8.44, 8.46,\n",
       "       8.48, 8.5 , 8.52, 8.54, 8.56, 8.58, 8.6 , 8.62, 8.64, 8.66, 8.68,\n",
       "       8.7 , 8.72, 8.74, 8.76, 8.78, 8.8 , 8.82, 8.84, 8.86, 8.88, 8.9 ,\n",
       "       8.92, 8.94, 8.96, 8.98, 9.  , 9.02, 9.04, 9.06, 9.08, 9.1 , 9.12,\n",
       "       9.14, 9.16, 9.18, 9.2 , 9.22, 9.24, 9.26, 9.28, 9.3 , 9.32, 9.34,\n",
       "       9.36, 9.38, 9.4 , 9.42, 9.44, 9.46, 9.48, 9.5 , 9.52, 9.54, 9.56,\n",
       "       9.58, 9.6 , 9.62, 9.64, 9.66, 9.68, 9.7 , 9.72, 9.74, 9.76, 9.78,\n",
       "       9.8 , 9.82, 9.84, 9.86, 9.88, 9.9 , 9.92, 9.94, 9.96, 9.98])"
      ]
     },
     "execution_count": 15,
     "metadata": {},
     "output_type": "execute_result"
    }
   ],
   "source": [
    "b = np.arange(1, 10, 0.02)\n",
    "b"
   ]
  },
  {
   "cell_type": "code",
   "execution_count": 16,
   "metadata": {},
   "outputs": [
    {
     "data": {
      "text/plain": [
       "numpy.ndarray"
      ]
     },
     "execution_count": 16,
     "metadata": {},
     "output_type": "execute_result"
    }
   ],
   "source": [
    "type(b)"
   ]
  },
  {
   "cell_type": "code",
   "execution_count": 17,
   "metadata": {},
   "outputs": [
    {
     "data": {
      "text/plain": [
       "(450,)"
      ]
     },
     "execution_count": 17,
     "metadata": {},
     "output_type": "execute_result"
    }
   ],
   "source": [
    "b.shape"
   ]
  },
  {
   "cell_type": "code",
   "execution_count": null,
   "metadata": {},
   "outputs": [],
   "source": []
  }
 ],
 "metadata": {
  "kernelspec": {
   "display_name": "Python 3",
   "language": "python",
   "name": "python3"
  },
  "language_info": {
   "codemirror_mode": {
    "name": "ipython",
    "version": 3
   },
   "file_extension": ".py",
   "mimetype": "text/x-python",
   "name": "python",
   "nbconvert_exporter": "python",
   "pygments_lexer": "ipython3",
   "version": "3.7.4"
  }
 },
 "nbformat": 4,
 "nbformat_minor": 4
}
