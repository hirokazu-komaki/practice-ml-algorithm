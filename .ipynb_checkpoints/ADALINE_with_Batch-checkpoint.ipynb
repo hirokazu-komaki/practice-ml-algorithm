{
 "cells": [
  {
   "cell_type": "markdown",
   "metadata": {},
   "source": [
    "# ADALINEをクラスで定義してみる"
   ]
  },
  {
   "cell_type": "code",
   "execution_count": 1,
   "metadata": {},
   "outputs": [],
   "source": [
    "import numpy as np\n",
    "\n",
    "class AdalineGD(object):\n",
    "    \"\"\"\n",
    "    param:\n",
    "    eta: float, 学習率\n",
    "    n_iter: int, トレーニング回数\n",
    "    random_state: int, 重みを初期化する乱数シード\n",
    "    \n",
    "    attribute:\n",
    "    w_: 1次元配列, 学習した重み\n",
    "    cost_: list, 予測値と目標値を使って計算された誤差\n",
    "    \n",
    "    \"\"\"\n",
    "    \n",
    "    def __init__(self, eta=0.01, n_iter=50, random_state=1):\n",
    "        self.eta = eta\n",
    "        self.n_iter = n_iter\n",
    "        self.random_state = random_state\n",
    "        \n",
    "    def fit(self, X, y):\n",
    "        \"\"\"\n",
    "        param:\n",
    "        X: 訓練データ\n",
    "        y: 予測値\n",
    "        \n",
    "        戻り値:\n",
    "        self: オブジェクト\n",
    "        \n",
    "        \"\"\"\n",
    "        \n",
    "        rgen = np.random.RandomState(self.random_state)\n",
    "        self.w_ = rgen.normal(loc=0.0, scale=0.01, size=1 + X.shape[1])\n",
    "        self.cost_ = []\n",
    "        \n",
    "        # n_iter分モデルを学習（訓練）させる\n",
    "        for i in range(self.n_iter):\n",
    "            # 計算した総入力を代入\n",
    "            net_input = self.net_input(X)\n",
    "            \n",
    "            # 活性化関数に代入\n",
    "            output = self.activation(net_input)\n",
    "            \n",
    "            # 誤差を計算\n",
    "            errors = (y - output)\n",
    "            \n",
    "            # 重みの更新（w_1 ~ w_n）\n",
    "            self.w_[1:] += self.eta * X.T.dot(errors)\n",
    "            \n",
    "            # w_0の更新\n",
    "            self.w_[0] += self.eta * errors.sum()\n",
    "            \n",
    "            # コスト関数の計算\n",
    "            cost = (errors**2).sum() / 2.0\n",
    "            self.cost_.append(cost)\n",
    "        return self\n",
    "    \n",
    "    \n",
    "    def net_input(self, X):\n",
    "        # 総入力を計算\n",
    "        return np.dot(X, self.w_[1:]) + self.w_[0]\n",
    "    \n",
    "    \n",
    "    def activation(self, X):\n",
    "        return X\n",
    "    \n",
    "    \n",
    "    def predict(self, X):\n",
    "        return np.where(self.activation(self.net_input(X)) >= 0.0, 1, -1)\n",
    "            \n",
    "        "
   ]
  },
  {
   "cell_type": "code",
   "execution_count": 2,
   "metadata": {},
   "outputs": [
    {
     "name": "stderr",
     "output_type": "stream",
     "text": [
      "/opt/anaconda3/lib/python3.7/importlib/_bootstrap.py:219: RuntimeWarning: numpy.ufunc size changed, may indicate binary incompatibility. Expected 192 from C header, got 216 from PyObject\n",
      "  return f(*args, **kwds)\n"
     ]
    }
   ],
   "source": [
    "import pandas as pd\n",
    "import matplotlib.pyplot as plt\n",
    "%matplotlib inline\n"
   ]
  },
  {
   "cell_type": "markdown",
   "metadata": {},
   "source": [
    "### 2つの異なる学習率、それぞれにおけるエポック回数とコスト関数の関係を見てみる"
   ]
  },
  {
   "cell_type": "code",
   "execution_count": 4,
   "metadata": {
    "collapsed": true,
    "jupyter": {
     "outputs_hidden": true
    }
   },
   "outputs": [
    {
     "data": {
      "text/plain": [
       "<bound method NDFrame.head of        0    1    2    3               4\n",
       "0    5.1  3.5  1.4  0.2     Iris-setosa\n",
       "1    4.9  3.0  1.4  0.2     Iris-setosa\n",
       "2    4.7  3.2  1.3  0.2     Iris-setosa\n",
       "3    4.6  3.1  1.5  0.2     Iris-setosa\n",
       "4    5.0  3.6  1.4  0.2     Iris-setosa\n",
       "..   ...  ...  ...  ...             ...\n",
       "145  6.7  3.0  5.2  2.3  Iris-virginica\n",
       "146  6.3  2.5  5.0  1.9  Iris-virginica\n",
       "147  6.5  3.0  5.2  2.0  Iris-virginica\n",
       "148  6.2  3.4  5.4  2.3  Iris-virginica\n",
       "149  5.9  3.0  5.1  1.8  Iris-virginica\n",
       "\n",
       "[150 rows x 5 columns]>"
      ]
     },
     "execution_count": 4,
     "metadata": {},
     "output_type": "execute_result"
    }
   ],
   "source": [
    "df = pd.read_csv(\"https://archive.ics.uci.edu/ml/machine-learning-databases/iris/iris.data\", header=None)\n",
    "df.head"
   ]
  },
  {
   "cell_type": "code",
   "execution_count": 8,
   "metadata": {
    "collapsed": true,
    "jupyter": {
     "outputs_hidden": true
    }
   },
   "outputs": [
    {
     "data": {
      "text/plain": [
       "array(['Iris-setosa', 'Iris-setosa', 'Iris-setosa', 'Iris-setosa',\n",
       "       'Iris-setosa', 'Iris-setosa', 'Iris-setosa', 'Iris-setosa',\n",
       "       'Iris-setosa', 'Iris-setosa', 'Iris-setosa', 'Iris-setosa',\n",
       "       'Iris-setosa', 'Iris-setosa', 'Iris-setosa', 'Iris-setosa',\n",
       "       'Iris-setosa', 'Iris-setosa', 'Iris-setosa', 'Iris-setosa',\n",
       "       'Iris-setosa', 'Iris-setosa', 'Iris-setosa', 'Iris-setosa',\n",
       "       'Iris-setosa', 'Iris-setosa', 'Iris-setosa', 'Iris-setosa',\n",
       "       'Iris-setosa', 'Iris-setosa', 'Iris-setosa', 'Iris-setosa',\n",
       "       'Iris-setosa', 'Iris-setosa', 'Iris-setosa', 'Iris-setosa',\n",
       "       'Iris-setosa', 'Iris-setosa', 'Iris-setosa', 'Iris-setosa',\n",
       "       'Iris-setosa', 'Iris-setosa', 'Iris-setosa', 'Iris-setosa',\n",
       "       'Iris-setosa', 'Iris-setosa', 'Iris-setosa', 'Iris-setosa',\n",
       "       'Iris-setosa', 'Iris-setosa', 'Iris-versicolor', 'Iris-versicolor',\n",
       "       'Iris-versicolor', 'Iris-versicolor', 'Iris-versicolor',\n",
       "       'Iris-versicolor', 'Iris-versicolor', 'Iris-versicolor',\n",
       "       'Iris-versicolor', 'Iris-versicolor', 'Iris-versicolor',\n",
       "       'Iris-versicolor', 'Iris-versicolor', 'Iris-versicolor',\n",
       "       'Iris-versicolor', 'Iris-versicolor', 'Iris-versicolor',\n",
       "       'Iris-versicolor', 'Iris-versicolor', 'Iris-versicolor',\n",
       "       'Iris-versicolor', 'Iris-versicolor', 'Iris-versicolor',\n",
       "       'Iris-versicolor', 'Iris-versicolor', 'Iris-versicolor',\n",
       "       'Iris-versicolor', 'Iris-versicolor', 'Iris-versicolor',\n",
       "       'Iris-versicolor', 'Iris-versicolor', 'Iris-versicolor',\n",
       "       'Iris-versicolor', 'Iris-versicolor', 'Iris-versicolor',\n",
       "       'Iris-versicolor', 'Iris-versicolor', 'Iris-versicolor',\n",
       "       'Iris-versicolor', 'Iris-versicolor', 'Iris-versicolor',\n",
       "       'Iris-versicolor', 'Iris-versicolor', 'Iris-versicolor',\n",
       "       'Iris-versicolor', 'Iris-versicolor', 'Iris-versicolor',\n",
       "       'Iris-versicolor', 'Iris-versicolor', 'Iris-versicolor'],\n",
       "      dtype=object)"
      ]
     },
     "execution_count": 8,
     "metadata": {},
     "output_type": "execute_result"
    }
   ],
   "source": [
    "y = df.iloc[0:100, 4].values\n",
    "y"
   ]
  },
  {
   "cell_type": "code",
   "execution_count": 9,
   "metadata": {},
   "outputs": [
    {
     "data": {
      "text/plain": [
       "array([-1, -1, -1, -1, -1, -1, -1, -1, -1, -1, -1, -1, -1, -1, -1, -1, -1,\n",
       "       -1, -1, -1, -1, -1, -1, -1, -1, -1, -1, -1, -1, -1, -1, -1, -1, -1,\n",
       "       -1, -1, -1, -1, -1, -1, -1, -1, -1, -1, -1, -1, -1, -1, -1, -1,  1,\n",
       "        1,  1,  1,  1,  1,  1,  1,  1,  1,  1,  1,  1,  1,  1,  1,  1,  1,\n",
       "        1,  1,  1,  1,  1,  1,  1,  1,  1,  1,  1,  1,  1,  1,  1,  1,  1,\n",
       "        1,  1,  1,  1,  1,  1,  1,  1,  1,  1,  1,  1,  1,  1,  1])"
      ]
     },
     "execution_count": 9,
     "metadata": {},
     "output_type": "execute_result"
    }
   ],
   "source": [
    "y = np.where(y == 'Iris-setosa', -1, 1)\n",
    "y"
   ]
  },
  {
   "cell_type": "code",
   "execution_count": 11,
   "metadata": {
    "collapsed": true,
    "jupyter": {
     "outputs_hidden": true
    }
   },
   "outputs": [
    {
     "data": {
      "text/plain": [
       "array([[5.1, 1.4],\n",
       "       [4.9, 1.4],\n",
       "       [4.7, 1.3],\n",
       "       [4.6, 1.5],\n",
       "       [5. , 1.4],\n",
       "       [5.4, 1.7],\n",
       "       [4.6, 1.4],\n",
       "       [5. , 1.5],\n",
       "       [4.4, 1.4],\n",
       "       [4.9, 1.5],\n",
       "       [5.4, 1.5],\n",
       "       [4.8, 1.6],\n",
       "       [4.8, 1.4],\n",
       "       [4.3, 1.1],\n",
       "       [5.8, 1.2],\n",
       "       [5.7, 1.5],\n",
       "       [5.4, 1.3],\n",
       "       [5.1, 1.4],\n",
       "       [5.7, 1.7],\n",
       "       [5.1, 1.5],\n",
       "       [5.4, 1.7],\n",
       "       [5.1, 1.5],\n",
       "       [4.6, 1. ],\n",
       "       [5.1, 1.7],\n",
       "       [4.8, 1.9],\n",
       "       [5. , 1.6],\n",
       "       [5. , 1.6],\n",
       "       [5.2, 1.5],\n",
       "       [5.2, 1.4],\n",
       "       [4.7, 1.6],\n",
       "       [4.8, 1.6],\n",
       "       [5.4, 1.5],\n",
       "       [5.2, 1.5],\n",
       "       [5.5, 1.4],\n",
       "       [4.9, 1.5],\n",
       "       [5. , 1.2],\n",
       "       [5.5, 1.3],\n",
       "       [4.9, 1.5],\n",
       "       [4.4, 1.3],\n",
       "       [5.1, 1.5],\n",
       "       [5. , 1.3],\n",
       "       [4.5, 1.3],\n",
       "       [4.4, 1.3],\n",
       "       [5. , 1.6],\n",
       "       [5.1, 1.9],\n",
       "       [4.8, 1.4],\n",
       "       [5.1, 1.6],\n",
       "       [4.6, 1.4],\n",
       "       [5.3, 1.5],\n",
       "       [5. , 1.4],\n",
       "       [7. , 4.7],\n",
       "       [6.4, 4.5],\n",
       "       [6.9, 4.9],\n",
       "       [5.5, 4. ],\n",
       "       [6.5, 4.6],\n",
       "       [5.7, 4.5],\n",
       "       [6.3, 4.7],\n",
       "       [4.9, 3.3],\n",
       "       [6.6, 4.6],\n",
       "       [5.2, 3.9],\n",
       "       [5. , 3.5],\n",
       "       [5.9, 4.2],\n",
       "       [6. , 4. ],\n",
       "       [6.1, 4.7],\n",
       "       [5.6, 3.6],\n",
       "       [6.7, 4.4],\n",
       "       [5.6, 4.5],\n",
       "       [5.8, 4.1],\n",
       "       [6.2, 4.5],\n",
       "       [5.6, 3.9],\n",
       "       [5.9, 4.8],\n",
       "       [6.1, 4. ],\n",
       "       [6.3, 4.9],\n",
       "       [6.1, 4.7],\n",
       "       [6.4, 4.3],\n",
       "       [6.6, 4.4],\n",
       "       [6.8, 4.8],\n",
       "       [6.7, 5. ],\n",
       "       [6. , 4.5],\n",
       "       [5.7, 3.5],\n",
       "       [5.5, 3.8],\n",
       "       [5.5, 3.7],\n",
       "       [5.8, 3.9],\n",
       "       [6. , 5.1],\n",
       "       [5.4, 4.5],\n",
       "       [6. , 4.5],\n",
       "       [6.7, 4.7],\n",
       "       [6.3, 4.4],\n",
       "       [5.6, 4.1],\n",
       "       [5.5, 4. ],\n",
       "       [5.5, 4.4],\n",
       "       [6.1, 4.6],\n",
       "       [5.8, 4. ],\n",
       "       [5. , 3.3],\n",
       "       [5.6, 4.2],\n",
       "       [5.7, 4.2],\n",
       "       [5.7, 4.2],\n",
       "       [6.2, 4.3],\n",
       "       [5.1, 3. ],\n",
       "       [5.7, 4.1]])"
      ]
     },
     "execution_count": 11,
     "metadata": {},
     "output_type": "execute_result"
    }
   ],
   "source": [
    "X = df.iloc[0:100, [0, 2]].values\n",
    "X"
   ]
  },
  {
   "cell_type": "code",
   "execution_count": 21,
   "metadata": {},
   "outputs": [
    {
     "data": {
      "text/plain": [
       "Text(0.5, 1.0, 'Adaline at eta is 0.0001')"
      ]
     },
     "execution_count": 21,
     "metadata": {},
     "output_type": "execute_result"
    },
    {
     "data": {
      "image/png": "[encoded data removed]",
      "text/plain": [
       "<Figure size 720x288 with 2 Axes>"
      ]
     },
     "metadata": {
      "needs_background": "light"
     },
     "output_type": "display_data"
    }
   ],
   "source": [
    "# 2つのグラフを1行2列で表現する\n",
    "fig, ax = plt.subplots(nrows=1, ncols=2, figsize=(10, 4))\n",
    "\n",
    "# Adalineモデルの学習\n",
    "ada1 = AdalineGD(n_iter=10, eta=0.01)\n",
    "ada1.fit(X, y)\n",
    "\n",
    "# グラフのプロット\n",
    "ax[0].plot(range(1, len(ada1.cost_)+1), np.log10(ada1.cost_), marker='o')\n",
    "ax[0].set_xlabel('Epochs')\n",
    "ax[0].set_ylabel('Cost_LogScale')\n",
    "ax[0].set_title('Adaline at eta is 0.01')\n",
    "\n",
    "# 学習率0.0001の時\n",
    "ada2 = AdalineGD(n_iter=10, eta=0.0001)\n",
    "ada2.fit(X, y)\n",
    "\n",
    "# グラフプロット\n",
    "ax[1].plot(range(1, len(ada2.cost_)+1), np.log10(ada2.cost_), marker='o')\n",
    "ax[1].set_xlabel('Epochs')\n",
    "ax[1].set_ylabel('Cost_LogScale')\n",
    "ax[1].set_title('Adaline at eta is 0.0001')\n"
   ]
  },
  {
   "cell_type": "markdown",
   "metadata": {},
   "source": [
    "### 特徴量Xを標準化（スケーリング）して、上図の問題がどうなるか見てみる"
   ]
  },
  {
   "cell_type": "code",
   "execution_count": 22,
   "metadata": {
    "collapsed": true,
    "jupyter": {
     "outputs_hidden": true
    }
   },
   "outputs": [
    {
     "data": {
      "text/plain": [
       "array([[-0.5810659 , -1.01435952],\n",
       "       [-0.89430898, -1.01435952],\n",
       "       [-1.20755205, -1.08374115],\n",
       "       [-1.36417359, -0.94497788],\n",
       "       [-0.73768744, -1.01435952],\n",
       "       [-0.11120129, -0.80621461],\n",
       "       [-1.36417359, -1.01435952],\n",
       "       [-0.73768744, -0.94497788],\n",
       "       [-1.67741667, -1.01435952],\n",
       "       [-0.89430898, -0.94497788],\n",
       "       [-0.11120129, -0.94497788],\n",
       "       [-1.05093052, -0.87559625],\n",
       "       [-1.05093052, -1.01435952],\n",
       "       [-1.8340382 , -1.22250442],\n",
       "       [ 0.51528486, -1.15312279],\n",
       "       [ 0.35866332, -0.94497788],\n",
       "       [-0.11120129, -1.08374115],\n",
       "       [-0.5810659 , -1.01435952],\n",
       "       [ 0.35866332, -0.80621461],\n",
       "       [-0.5810659 , -0.94497788],\n",
       "       [-0.11120129, -0.80621461],\n",
       "       [-0.5810659 , -0.94497788],\n",
       "       [-1.36417359, -1.29188606],\n",
       "       [-0.5810659 , -0.80621461],\n",
       "       [-1.05093052, -0.66745134],\n",
       "       [-0.73768744, -0.87559625],\n",
       "       [-0.73768744, -0.87559625],\n",
       "       [-0.42444437, -0.94497788],\n",
       "       [-0.42444437, -1.01435952],\n",
       "       [-1.20755205, -0.87559625],\n",
       "       [-1.05093052, -0.87559625],\n",
       "       [-0.11120129, -0.94497788],\n",
       "       [-0.42444437, -0.94497788],\n",
       "       [ 0.04542025, -1.01435952],\n",
       "       [-0.89430898, -0.94497788],\n",
       "       [-0.73768744, -1.15312279],\n",
       "       [ 0.04542025, -1.08374115],\n",
       "       [-0.89430898, -0.94497788],\n",
       "       [-1.67741667, -1.08374115],\n",
       "       [-0.5810659 , -0.94497788],\n",
       "       [-0.73768744, -1.08374115],\n",
       "       [-1.52079513, -1.08374115],\n",
       "       [-1.67741667, -1.08374115],\n",
       "       [-0.73768744, -0.87559625],\n",
       "       [-0.5810659 , -0.66745134],\n",
       "       [-1.05093052, -1.01435952],\n",
       "       [-0.5810659 , -0.87559625],\n",
       "       [-1.36417359, -1.01435952],\n",
       "       [-0.26782283, -0.94497788],\n",
       "       [-0.73768744, -1.01435952],\n",
       "       [ 2.39474331,  1.27523447],\n",
       "       [ 1.45501408,  1.1364712 ],\n",
       "       [ 2.23812177,  1.41399774],\n",
       "       [ 0.04542025,  0.78956302],\n",
       "       [ 1.61163562,  1.20585283],\n",
       "       [ 0.35866332,  1.1364712 ],\n",
       "       [ 1.29839254,  1.27523447],\n",
       "       [-0.89430898,  0.30389157],\n",
       "       [ 1.76825716,  1.20585283],\n",
       "       [-0.42444437,  0.72018138],\n",
       "       [-0.73768744,  0.44265484],\n",
       "       [ 0.6719064 ,  0.92832629],\n",
       "       [ 0.82852793,  0.78956302],\n",
       "       [ 0.98514947,  1.27523447],\n",
       "       [ 0.20204178,  0.51203647],\n",
       "       [ 1.92487869,  1.06708956],\n",
       "       [ 0.20204178,  1.1364712 ],\n",
       "       [ 0.51528486,  0.85894465],\n",
       "       [ 1.14177101,  1.1364712 ],\n",
       "       [ 0.20204178,  0.72018138],\n",
       "       [ 0.6719064 ,  1.3446161 ],\n",
       "       [ 0.98514947,  0.78956302],\n",
       "       [ 1.29839254,  1.41399774],\n",
       "       [ 0.98514947,  1.27523447],\n",
       "       [ 1.45501408,  0.99770792],\n",
       "       [ 1.76825716,  1.06708956],\n",
       "       [ 2.08150023,  1.3446161 ],\n",
       "       [ 1.92487869,  1.48337938],\n",
       "       [ 0.82852793,  1.1364712 ],\n",
       "       [ 0.35866332,  0.44265484],\n",
       "       [ 0.04542025,  0.65079974],\n",
       "       [ 0.04542025,  0.58141811],\n",
       "       [ 0.51528486,  0.72018138],\n",
       "       [ 0.82852793,  1.55276101],\n",
       "       [-0.11120129,  1.1364712 ],\n",
       "       [ 0.82852793,  1.1364712 ],\n",
       "       [ 1.92487869,  1.27523447],\n",
       "       [ 1.29839254,  1.06708956],\n",
       "       [ 0.20204178,  0.85894465],\n",
       "       [ 0.04542025,  0.78956302],\n",
       "       [ 0.04542025,  1.06708956],\n",
       "       [ 0.98514947,  1.20585283],\n",
       "       [ 0.51528486,  0.78956302],\n",
       "       [-0.73768744,  0.30389157],\n",
       "       [ 0.20204178,  0.92832629],\n",
       "       [ 0.35866332,  0.92832629],\n",
       "       [ 0.35866332,  0.92832629],\n",
       "       [ 1.14177101,  0.99770792],\n",
       "       [-0.5810659 ,  0.09574666],\n",
       "       [ 0.35866332,  0.85894465]])"
      ]
     },
     "execution_count": 22,
     "metadata": {},
     "output_type": "execute_result"
    }
   ],
   "source": [
    "# Xを標準化\n",
    "X_std = np.copy(X)\n",
    "X_std[:,0] = (X[:,0] - X[:,0].mean()) / X[:,0].std()\n",
    "X_std[:,1] = (X[:,1] - X[:,1].mean()) / X[:,1].std()\n",
    "X_std"
   ]
  },
  {
   "cell_type": "code",
   "execution_count": 23,
   "metadata": {},
   "outputs": [],
   "source": [
    "from matplotlib.colors import ListedColormap\n",
    "\n",
    "def plot_decision_regions(X, y, classifier, resolution=0.02):\n",
    "    \n",
    "    # マーカーとカラーマップの準備\n",
    "    markers = ('s', 'x', 'o', '^', 'v')\n",
    "    colors = ('red', 'blue', 'lightgreen', 'gray', 'cyan')\n",
    "    cmap = ListedColormap(colors[:len(np.unique(y))])\n",
    "    \n",
    "    # 決定領域のプロット\n",
    "    x1_min, x1_max = X[:, 0].min() - 1, X[:, 0].max() + 1\n",
    "    x2_min, x2_max = X[:, 1].min() - 1, X[:, 1].max() + 1\n",
    "    \n",
    "    # グリッドポイントの生成\n",
    "    xx1, xx2 = np.meshgrid(np.arange(x1_min, x1_max, resolution),\n",
    "                           np.arange(x2_min, x2_max, resolution))\n",
    "    \n",
    "    # グリッド配列を1次元にする(各特徴量を1次元配列に直してから予測を実行)\n",
    "    Z = classifier.predict(np.array([xx1.ravel(), xx2.ravel()]).T)\n",
    "    # 予測した結果を元のグリッドポイントのデータサイズに変換\n",
    "    Z = Z.reshape(xx1.shape)\n",
    "    \n",
    "    # グリッドポイントの等高線のプロット\n",
    "    plt.contourf(xx1, xx2, Z, alpha=0.3, cmap=cmap)\n",
    "    \n",
    "    # 値の範囲\n",
    "    plt.xlim(xx1.min(), xx1.max())\n",
    "    plt.ylim(xx2.min(), xx2.max())\n",
    "    \n",
    "    # クラス毎にサンプルをプロット\n",
    "    for idx, cl in enumerate(np.unique(y)):\n",
    "        plt.scatter(x=X[y == cl, 0],\n",
    "                    y=X[y == cl, 1],\n",
    "                    alpha=0.8,\n",
    "                    c=colors[idx],\n",
    "                    marker=markers[idx],\n",
    "                    label=cl,\n",
    "                    edgecolors='black')"
   ]
  },
  {
   "cell_type": "code",
   "execution_count": 24,
   "metadata": {},
   "outputs": [
    {
     "data": {
      "image/png": "[encoded data removed]",
      "text/plain": [
       "<Figure size 432x288 with 1 Axes>"
      ]
     },
     "metadata": {
      "needs_background": "light"
     },
     "output_type": "display_data"
    },
    {
     "data": {
      "image/png": "[encoded data removed]",
      "text/plain": [
       "<Figure size 432x288 with 1 Axes>"
      ]
     },
     "metadata": {
      "needs_background": "light"
     },
     "output_type": "display_data"
    }
   ],
   "source": [
    "# 標準化した特徴量を用いてAdalineモデルを学習させる\n",
    "ada = AdalineGD(n_iter=15, eta=0.01)\n",
    "ada.fit(X_std, y)\n",
    "\n",
    "# 境界線をプロット\n",
    "plot_decision_regions(X_std, y, classifier=ada)\n",
    "plt.title('Adaline with scalign sample')\n",
    "plt.xlabel('sepal length[cm std]')\n",
    "plt.ylabel('petal length[cm std]')\n",
    "plt.legend(loc='upper left')\n",
    "plt.tight_layout()\n",
    "plt.show()\n",
    "\n",
    "# epochとcostの関係もグラフで\n",
    "plt.plot(range(1, len(ada.cost_)+1), ada.cost_, marker='o')\n",
    "plt.xlabel('Epochs')\n",
    "plt.ylabel('Cost')\n",
    "plt.tight_layout()\n",
    "plt.show()"
   ]
  },
  {
   "cell_type": "code",
   "execution_count": null,
   "metadata": {},
   "outputs": [],
   "source": []
  }
 ],
 "metadata": {
  "kernelspec": {
   "display_name": "Python 3",
   "language": "python",
   "name": "python3"
  },
  "language_info": {
   "codemirror_mode": {
    "name": "ipython",
    "version": 3
   },
   "file_extension": ".py",
   "mimetype": "text/x-python",
   "name": "python",
   "nbconvert_exporter": "python",
   "pygments_lexer": "ipython3",
   "version": "3.7.4"
  }
 },
 "nbformat": 4,
 "nbformat_minor": 4
}
