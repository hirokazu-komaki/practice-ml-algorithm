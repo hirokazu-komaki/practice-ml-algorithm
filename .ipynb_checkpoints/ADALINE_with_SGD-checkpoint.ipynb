{
 "cells": [
  {
   "cell_type": "markdown",
   "metadata": {},
   "source": [
    "# ADALINE を確立的勾配降下法（SGD）を使って学習させる"
   ]
  },
  {
   "cell_type": "markdown",
   "metadata": {},
   "source": [
    "※ADALINE_with_Batchの一部を変更、要素の追加をすることでSGDを実現できる"
   ]
  },
  {
   "cell_type": "code",
   "execution_count": 1,
   "metadata": {},
   "outputs": [],
   "source": [
    "import numpy as np\n",
    "from numpy.random import seed\n",
    "\n",
    "class AdalineSGD(object):\n",
    "    \"\"\"\n",
    "    param:\n",
    "    eta: float, 学習率\n",
    "    n_iter: int, トレーニング回数\n",
    "    random_state: int, 重みを初期化する乱数シード\n",
    "    \n",
    "    shuffle: bool(defalut True), Trueの時にトレーニングデータをシャッフルする\n",
    "    \n",
    "    attribute:\n",
    "    w_: 1次元配列, 学習した重み\n",
    "    cost_: list, 予測値と目標値を使って計算された誤差\n",
    "    \n",
    "    \"\"\"\n",
    "    \n",
    "    def __init__(self, eta=0.01, n_iter=10, shuffle=True, random_state=None):\n",
    "        self.eta = eta\n",
    "        self.n_iter = n_iter\n",
    "        self.random_state = random_state\n",
    "        self.shuffle = shuffle\n",
    "        # 重みの初期化フラグはFalseにしておく\n",
    "        self.w_initialized = False\n",
    "        \n",
    "    def fit(self, X, y):\n",
    "        \"\"\"\n",
    "        param:\n",
    "        X: 訓練データ\n",
    "        y: 予測値\n",
    "        \n",
    "        戻り値:\n",
    "        self: オブジェクト\n",
    "        \n",
    "        \"\"\"\n",
    "        # 重みベクトルを生成\n",
    "        self._initialize_weights(X.shape[1])\n",
    "        # rgen = np.random.RandomState(self.random_state)\n",
    "        # self.w_ = rgen.normal(loc=0.0, scale=0.01, size=1 + X.shape[1])\n",
    "        \n",
    "        # コストを入れるリストを定義\n",
    "        self.cost_ = []\n",
    "        \n",
    "        # n_iter分モデルを学習（訓練）させる\n",
    "        for i in range(self.n_iter):\n",
    "            # 訓練データをシャッフルするかどうか\n",
    "            if self.shuffle:\n",
    "                X, y = self._shuffle(X, y)\n",
    "            \n",
    "            # 訓練データの各サンプルを使って計算されたコストを入れるリスト\n",
    "            cost = []\n",
    "            \n",
    "            # サンプル毎に計算\n",
    "            for xi, target in zip(X, y):\n",
    "                # 特徴量xiと目標値yを使ってコストを計算、重みを更新→メソッドにやらせる\n",
    "                cost.append(self._update_weights(xi, target))\n",
    "            \n",
    "            # サンプル毎に計算されたコストの平均を求める\n",
    "            # avg_cost = cost.mean()\n",
    "            avg_cost = sum(cost) / len(y)\n",
    "            self.cost_.append(avg_cost)\n",
    "        \n",
    "        return self\n",
    "    \n",
    "    \n",
    "    def partial_fit(self, X, y):\n",
    "        \"\"\"\n",
    "        重みを再初期化することをせず学習を進める\n",
    "        新しい訓練サンプルが来た場合のモデル学習（オンライン学習）\n",
    "        \"\"\"\n",
    "        \n",
    "        # 初期化されていない場合は初期化を実行\n",
    "        if not self.w_initialized:\n",
    "            self._initialize_weights(X.shape[1])\n",
    "            \n",
    "        # 新たに追加されたサンプルの特徴量が2要素以上（＝目標値が2要素以上）の場合\n",
    "        if y.ravel().shape[0] > 1:\n",
    "            for xi, target in zip(X, y):\n",
    "                self._update_weights(xi, target)\n",
    "        \n",
    "        # 新たに追加されたサンプルの特徴量が1要素（＝目標値が1要素）の場合\n",
    "        else:\n",
    "            self._update_weights(X, y)\n",
    "        \n",
    "        return self\n",
    "    \n",
    "    \n",
    "    def _shuffle(self, X, y):\n",
    "        r = self.rgen.permutation(len(y))\n",
    "        return X[r], y[r]\n",
    "    \n",
    "    \n",
    "    def _initialize_weights(self, m):\n",
    "        self.rgen = np.random.RandomState(self.random_state)\n",
    "        self.w_ = self.rgen.normal(loc=0.0, scale=0.01, size=1+m)\n",
    "        self.w_initialized = True\n",
    "        \n",
    "        \n",
    "    def _update_weights(self, xi, target):\n",
    "        # 活性化関数の出力\n",
    "        output = self.activation(self.net_input(xi))\n",
    "        \n",
    "        # 誤差の計算\n",
    "        error = (target - output)\n",
    "        \n",
    "        # 重みΔの更新\n",
    "        self.w_[1:] += self.eta * xi.dot(error)\n",
    "        self.w_[0] += self.eta * error\n",
    "        \n",
    "        # コストの計算\n",
    "        cost = 0.5 * error ** 2\n",
    "        \n",
    "        return cost                \n",
    "    \n",
    "    \n",
    "    def net_input(self, X):\n",
    "        # 総入力を計算\n",
    "        return np.dot(X, self.w_[1:]) + self.w_[0]\n",
    "    \n",
    "    \n",
    "    def activation(self, X):\n",
    "        return X\n",
    "    \n",
    "    \n",
    "    def predict(self, X):\n",
    "        return np.where(self.activation(self.net_input(X)) >= 0.0, 1, -1)\n",
    "            \n",
    "        "
   ]
  },
  {
   "cell_type": "code",
   "execution_count": 2,
   "metadata": {},
   "outputs": [],
   "source": [
    "from matplotlib.colors import ListedColormap\n",
    "\n",
    "def plot_decision_regions(X, y, classifier, resolution=0.02):\n",
    "    \n",
    "    # マーカーとカラーマップの準備\n",
    "    markers = ('s', 'x', 'o', '^', 'v')\n",
    "    colors = ('red', 'blue', 'lightgreen', 'gray', 'cyan')\n",
    "    cmap = ListedColormap(colors[:len(np.unique(y))])\n",
    "    \n",
    "    # 決定領域のプロット\n",
    "    x1_min, x1_max = X[:, 0].min() - 1, X[:, 0].max() + 1\n",
    "    x2_min, x2_max = X[:, 1].min() - 1, X[:, 1].max() + 1\n",
    "    \n",
    "    # グリッドポイントの生成\n",
    "    xx1, xx2 = np.meshgrid(np.arange(x1_min, x1_max, resolution),\n",
    "                           np.arange(x2_min, x2_max, resolution))\n",
    "    \n",
    "    # グリッド配列を1次元にする(各特徴量を1次元配列に直してから予測を実行)\n",
    "    Z = classifier.predict(np.array([xx1.ravel(), xx2.ravel()]).T)\n",
    "    # 予測した結果を元のグリッドポイントのデータサイズに変換\n",
    "    Z = Z.reshape(xx1.shape)\n",
    "    \n",
    "    # グリッドポイントの等高線のプロット\n",
    "    plt.contourf(xx1, xx2, Z, alpha=0.3, cmap=cmap)\n",
    "    \n",
    "    # 値の範囲\n",
    "    plt.xlim(xx1.min(), xx1.max())\n",
    "    plt.ylim(xx2.min(), xx2.max())\n",
    "    \n",
    "    # クラス毎にサンプルをプロット\n",
    "    for idx, cl in enumerate(np.unique(y)):\n",
    "        plt.scatter(x=X[y == cl, 0],\n",
    "                    y=X[y == cl, 1],\n",
    "                    alpha=0.8,\n",
    "                    c=colors[idx],\n",
    "                    marker=markers[idx],\n",
    "                    label=cl,\n",
    "                    edgecolors='black')"
   ]
  },
  {
   "cell_type": "markdown",
   "metadata": {},
   "source": [
    "### ADALINE_with_SGD"
   ]
  },
  {
   "cell_type": "code",
   "execution_count": 4,
   "metadata": {},
   "outputs": [
    {
     "name": "stderr",
     "output_type": "stream",
     "text": [
      "/opt/anaconda3/lib/python3.7/importlib/_bootstrap.py:219: RuntimeWarning: numpy.ufunc size changed, may indicate binary incompatibility. Expected 192 from C header, got 216 from PyObject\n",
      "  return f(*args, **kwds)\n"
     ]
    }
   ],
   "source": [
    "import pandas as pd\n",
    "import matplotlib.pylab as plt\n",
    "%matplotlib inline\n"
   ]
  },
  {
   "cell_type": "code",
   "execution_count": 5,
   "metadata": {},
   "outputs": [],
   "source": [
    "df = pd.read_csv(\"https://archive.ics.uci.edu/ml/machine-learning-databases/iris/iris.data\", header=None)\n",
    "\n",
    "y = df.iloc[0:100, 4].values\n",
    "\n",
    "y = np.where(y == 'Iris-setosa', -1, 1)\n",
    "\n",
    "X = df.iloc[0:100, [0, 2]].values"
   ]
  },
  {
   "cell_type": "code",
   "execution_count": 7,
   "metadata": {},
   "outputs": [],
   "source": [
    "# Xを標準化\n",
    "X_std = np.copy(X)\n",
    "X_std[:,0] = (X[:,0] - X[:,0].mean()) / X[:,0].std()\n",
    "X_std[:,1] = (X[:,1] - X[:,1].mean()) / X[:,1].std()\n",
    "# X_std"
   ]
  },
  {
   "cell_type": "code",
   "execution_count": null,
   "metadata": {},
   "outputs": [],
   "source": []
  },
  {
   "cell_type": "code",
   "execution_count": null,
   "metadata": {},
   "outputs": [],
   "source": []
  },
  {
   "cell_type": "code",
   "execution_count": 8,
   "metadata": {},
   "outputs": [
    {
     "data": {
      "image/png": "[encoded data removed]",
      "text/plain": [
       "<Figure size 432x288 with 1 Axes>"
      ]
     },
     "metadata": {
      "needs_background": "light"
     },
     "output_type": "display_data"
    },
    {
     "data": {
      "image/png": "[encoded data removed]",
      "text/plain": [
       "<Figure size 432x288 with 1 Axes>"
      ]
     },
     "metadata": {
      "needs_background": "light"
     },
     "output_type": "display_data"
    }
   ],
   "source": [
    "ada = AdalineSGD(n_iter=15, eta=0.01, random_state=1)\n",
    "ada.fit(X_std, y)\n",
    "plot_decision_regions(X_std, y, classifier=ada)\n",
    "\n",
    "plt.title('Adaline-SGD')\n",
    "plt.xlabel('setosa length[cm std]')\n",
    "plt.ylabel('petal length[cm std]')\n",
    "plt.legend(loc='upper left')\n",
    "plt.tight_layout()\n",
    "plt.show()\n",
    "\n",
    "# epochとcostの関係もグラフで\n",
    "plt.plot(range(1, len(ada.cost_)+1), ada.cost_, marker='o')\n",
    "plt.xlabel('Epochs')\n",
    "plt.ylabel('Cost')\n",
    "plt.tight_layout()\n",
    "plt.show()"
   ]
  },
  {
   "cell_type": "code",
   "execution_count": null,
   "metadata": {},
   "outputs": [],
   "source": []
  }
 ],
 "metadata": {
  "kernelspec": {
   "display_name": "Python 3",
   "language": "python",
   "name": "python3"
  },
  "language_info": {
   "codemirror_mode": {
    "name": "ipython",
    "version": 3
   },
   "file_extension": ".py",
   "mimetype": "text/x-python",
   "name": "python",
   "nbconvert_exporter": "python",
   "pygments_lexer": "ipython3",
   "version": "3.7.4"
  }
 },
 "nbformat": 4,
 "nbformat_minor": 4
}
